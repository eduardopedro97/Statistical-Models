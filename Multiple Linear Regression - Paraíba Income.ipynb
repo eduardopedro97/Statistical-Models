{
 "cells": [
  {
   "cell_type": "markdown",
   "metadata": {},
   "source": [
    "# Multiple Linear Regression - Paraíba Income Dataset"
   ]
  },
  {
   "cell_type": "markdown",
   "metadata": {},
   "source": [
    "This is an example of a multiple linear regression analysis using a dataset of informations about the income of the cities of the state of Paraíba, Brazil.\n",
    "\n",
    "Our goal here is to try to explain the income per capita of the Paraíba's cities, using some socioeconomic variables. This is a statistical approach, so do not expect machine learning concepts to be in focus.\n",
    "\n",
    "Let's read the descriptions below:\n",
    "* **RendaCapita:** The variable of interest. It measures the income of the cities of Paraíba;\n",
    "* **Adol2grau:** This is a variablle related to the number of adolescents in high school;\n",
    "* **AdultoSuperior:** This is a variable related to the number of adults in university education;\n",
    "* **AdolAnalfa:** This is a variable related to the number of illiterate adolescents;\n",
    "* **AdultosAnalfa:** This is a variables related to the number of illiterate adults;\n",
    "* **Fecun:** This is a fecundity rate variable;\n",
    "* **Morte1ano:** This variable is related to the number of kids who died before 1 year old."
   ]
  },
  {
   "cell_type": "code",
   "execution_count": 1,
   "metadata": {},
   "outputs": [
    {
     "data": {
      "text/plain": [
       "<Figure size 2000x1000 with 0 Axes>"
      ]
     },
     "execution_count": 1,
     "metadata": {},
     "output_type": "execute_result"
    }
   ],
   "source": [
    "# Inicial imports\n",
    "import pandas as pd\n",
    "import numpy as np\n",
    "import matplotlib.pyplot as plt\n",
    "import seaborn as sns\n",
    "from scipy import stats\n",
    "import statsmodels.api as sm\n",
    "from statsmodels.stats import diagnostic as diag\n",
    "from statsmodels.stats.outliers_influence import variance_inflation_factor as VIF\n",
    "#from sklearn.linear_model import LinearRegression\n",
    "from sklearn.model_selection import train_test_split\n",
    "from sklearn.metrics import mean_squared_error, mean_absolute_error\n",
    "\n",
    "plt.figure(figsize = (20, 10))"
   ]
  },
  {
   "cell_type": "code",
   "execution_count": 2,
   "metadata": {},
   "outputs": [
    {
     "data": {
      "text/html": [
       "<div>\n",
       "<style scoped>\n",
       "    .dataframe tbody tr th:only-of-type {\n",
       "        vertical-align: middle;\n",
       "    }\n",
       "\n",
       "    .dataframe tbody tr th {\n",
       "        vertical-align: top;\n",
       "    }\n",
       "\n",
       "    .dataframe thead th {\n",
       "        text-align: right;\n",
       "    }\n",
       "</style>\n",
       "<table border=\"1\" class=\"dataframe\">\n",
       "  <thead>\n",
       "    <tr style=\"text-align: right;\">\n",
       "      <th></th>\n",
       "      <th>RendaCapita</th>\n",
       "      <th>Adol2grau</th>\n",
       "      <th>AdultoSuperior</th>\n",
       "      <th>AdolAnalfa</th>\n",
       "      <th>AdultosAnalfa</th>\n",
       "      <th>Fecun</th>\n",
       "      <th>Morte1ano</th>\n",
       "    </tr>\n",
       "  </thead>\n",
       "  <tbody>\n",
       "    <tr>\n",
       "      <td>0</td>\n",
       "      <td>60.38</td>\n",
       "      <td>7.75</td>\n",
       "      <td>0.17</td>\n",
       "      <td>17.11</td>\n",
       "      <td>54.72</td>\n",
       "      <td>3.33</td>\n",
       "      <td>55.30</td>\n",
       "    </tr>\n",
       "    <tr>\n",
       "      <td>1</td>\n",
       "      <td>93.48</td>\n",
       "      <td>9.42</td>\n",
       "      <td>1.19</td>\n",
       "      <td>19.23</td>\n",
       "      <td>52.17</td>\n",
       "      <td>3.04</td>\n",
       "      <td>38.83</td>\n",
       "    </tr>\n",
       "    <tr>\n",
       "      <td>2</td>\n",
       "      <td>82.87</td>\n",
       "      <td>3.70</td>\n",
       "      <td>1.03</td>\n",
       "      <td>14.21</td>\n",
       "      <td>47.79</td>\n",
       "      <td>3.44</td>\n",
       "      <td>43.62</td>\n",
       "    </tr>\n",
       "    <tr>\n",
       "      <td>3</td>\n",
       "      <td>83.42</td>\n",
       "      <td>9.21</td>\n",
       "      <td>0.76</td>\n",
       "      <td>13.90</td>\n",
       "      <td>53.31</td>\n",
       "      <td>2.90</td>\n",
       "      <td>67.95</td>\n",
       "    </tr>\n",
       "    <tr>\n",
       "      <td>4</td>\n",
       "      <td>68.80</td>\n",
       "      <td>11.04</td>\n",
       "      <td>0.04</td>\n",
       "      <td>6.14</td>\n",
       "      <td>41.10</td>\n",
       "      <td>3.41</td>\n",
       "      <td>51.53</td>\n",
       "    </tr>\n",
       "  </tbody>\n",
       "</table>\n",
       "</div>"
      ],
      "text/plain": [
       "   RendaCapita  Adol2grau  AdultoSuperior  AdolAnalfa  AdultosAnalfa  Fecun  \\\n",
       "0        60.38       7.75            0.17       17.11          54.72   3.33   \n",
       "1        93.48       9.42            1.19       19.23          52.17   3.04   \n",
       "2        82.87       3.70            1.03       14.21          47.79   3.44   \n",
       "3        83.42       9.21            0.76       13.90          53.31   2.90   \n",
       "4        68.80      11.04            0.04        6.14          41.10   3.41   \n",
       "\n",
       "   Morte1ano  \n",
       "0      55.30  \n",
       "1      38.83  \n",
       "2      43.62  \n",
       "3      67.95  \n",
       "4      51.53  "
      ]
     },
     "execution_count": 2,
     "metadata": {},
     "output_type": "execute_result"
    }
   ],
   "source": [
    "#Importing the dataset using Pandas\n",
    "rpb = pd.read_table(\"C:/Users/Eduardo/Documents/Acadêmicos/Bases de Dados/RendaPB.txt\")\n",
    "\n",
    "#taking a quick look at the variables\n",
    "rpb.head()"
   ]
  },
  {
   "cell_type": "code",
   "execution_count": 3,
   "metadata": {},
   "outputs": [
    {
     "data": {
      "text/plain": [
       "RendaCapita       0\n",
       "Adol2grau         0\n",
       "AdultoSuperior    0\n",
       "AdolAnalfa        0\n",
       "AdultosAnalfa     0\n",
       "Fecun             0\n",
       "Morte1ano         0\n",
       "dtype: int64"
      ]
     },
     "execution_count": 3,
     "metadata": {},
     "output_type": "execute_result"
    }
   ],
   "source": [
    "#Verifing if there is any null value in the variables\n",
    "rpb.isnull().sum()"
   ]
  },
  {
   "cell_type": "markdown",
   "metadata": {},
   "source": [
    "## Exploratory Data Analysis"
   ]
  },
  {
   "cell_type": "markdown",
   "metadata": {},
   "source": [
    "This part of the process is very important to understand the kind of data we are dealing with. First of all, we can ask for some descriptive statistics to summary our informations. Let's see:"
   ]
  },
  {
   "cell_type": "code",
   "execution_count": 4,
   "metadata": {},
   "outputs": [
    {
     "data": {
      "text/html": [
       "<div>\n",
       "<style scoped>\n",
       "    .dataframe tbody tr th:only-of-type {\n",
       "        vertical-align: middle;\n",
       "    }\n",
       "\n",
       "    .dataframe tbody tr th {\n",
       "        vertical-align: top;\n",
       "    }\n",
       "\n",
       "    .dataframe thead th {\n",
       "        text-align: right;\n",
       "    }\n",
       "</style>\n",
       "<table border=\"1\" class=\"dataframe\">\n",
       "  <thead>\n",
       "    <tr style=\"text-align: right;\">\n",
       "      <th></th>\n",
       "      <th>RendaCapita</th>\n",
       "      <th>Adol2grau</th>\n",
       "      <th>AdultoSuperior</th>\n",
       "      <th>AdolAnalfa</th>\n",
       "      <th>AdultosAnalfa</th>\n",
       "      <th>Fecun</th>\n",
       "      <th>Morte1ano</th>\n",
       "    </tr>\n",
       "  </thead>\n",
       "  <tbody>\n",
       "    <tr>\n",
       "      <td>count</td>\n",
       "      <td>223.000000</td>\n",
       "      <td>223.000000</td>\n",
       "      <td>223.000000</td>\n",
       "      <td>223.000000</td>\n",
       "      <td>223.000000</td>\n",
       "      <td>223.000000</td>\n",
       "      <td>223.000000</td>\n",
       "    </tr>\n",
       "    <tr>\n",
       "      <td>mean</td>\n",
       "      <td>82.336816</td>\n",
       "      <td>10.505919</td>\n",
       "      <td>0.648206</td>\n",
       "      <td>11.243004</td>\n",
       "      <td>45.552960</td>\n",
       "      <td>2.977534</td>\n",
       "      <td>57.165202</td>\n",
       "    </tr>\n",
       "    <tr>\n",
       "      <td>std</td>\n",
       "      <td>30.552834</td>\n",
       "      <td>5.777486</td>\n",
       "      <td>0.913395</td>\n",
       "      <td>5.016782</td>\n",
       "      <td>8.875176</td>\n",
       "      <td>0.553649</td>\n",
       "      <td>12.885656</td>\n",
       "    </tr>\n",
       "    <tr>\n",
       "      <td>min</td>\n",
       "      <td>42.160000</td>\n",
       "      <td>0.850000</td>\n",
       "      <td>0.020000</td>\n",
       "      <td>2.580000</td>\n",
       "      <td>14.030000</td>\n",
       "      <td>1.930000</td>\n",
       "      <td>25.520000</td>\n",
       "    </tr>\n",
       "    <tr>\n",
       "      <td>25%</td>\n",
       "      <td>67.090000</td>\n",
       "      <td>6.775000</td>\n",
       "      <td>0.220000</td>\n",
       "      <td>7.425000</td>\n",
       "      <td>40.025000</td>\n",
       "      <td>2.510000</td>\n",
       "      <td>47.590000</td>\n",
       "    </tr>\n",
       "    <tr>\n",
       "      <td>50%</td>\n",
       "      <td>76.440000</td>\n",
       "      <td>9.160000</td>\n",
       "      <td>0.470000</td>\n",
       "      <td>10.870000</td>\n",
       "      <td>45.960000</td>\n",
       "      <td>2.900000</td>\n",
       "      <td>57.840000</td>\n",
       "    </tr>\n",
       "    <tr>\n",
       "      <td>75%</td>\n",
       "      <td>89.650000</td>\n",
       "      <td>13.320000</td>\n",
       "      <td>0.725000</td>\n",
       "      <td>14.470000</td>\n",
       "      <td>52.115000</td>\n",
       "      <td>3.330000</td>\n",
       "      <td>67.660000</td>\n",
       "    </tr>\n",
       "    <tr>\n",
       "      <td>max</td>\n",
       "      <td>334.690000</td>\n",
       "      <td>41.020000</td>\n",
       "      <td>8.600000</td>\n",
       "      <td>30.880000</td>\n",
       "      <td>66.330000</td>\n",
       "      <td>4.880000</td>\n",
       "      <td>84.290000</td>\n",
       "    </tr>\n",
       "  </tbody>\n",
       "</table>\n",
       "</div>"
      ],
      "text/plain": [
       "       RendaCapita   Adol2grau  AdultoSuperior  AdolAnalfa  AdultosAnalfa  \\\n",
       "count   223.000000  223.000000      223.000000  223.000000     223.000000   \n",
       "mean     82.336816   10.505919        0.648206   11.243004      45.552960   \n",
       "std      30.552834    5.777486        0.913395    5.016782       8.875176   \n",
       "min      42.160000    0.850000        0.020000    2.580000      14.030000   \n",
       "25%      67.090000    6.775000        0.220000    7.425000      40.025000   \n",
       "50%      76.440000    9.160000        0.470000   10.870000      45.960000   \n",
       "75%      89.650000   13.320000        0.725000   14.470000      52.115000   \n",
       "max     334.690000   41.020000        8.600000   30.880000      66.330000   \n",
       "\n",
       "            Fecun   Morte1ano  \n",
       "count  223.000000  223.000000  \n",
       "mean     2.977534   57.165202  \n",
       "std      0.553649   12.885656  \n",
       "min      1.930000   25.520000  \n",
       "25%      2.510000   47.590000  \n",
       "50%      2.900000   57.840000  \n",
       "75%      3.330000   67.660000  \n",
       "max      4.880000   84.290000  "
      ]
     },
     "execution_count": 4,
     "metadata": {},
     "output_type": "execute_result"
    }
   ],
   "source": [
    "#Import statistics to summary the dataset\n",
    "rpb.describe()"
   ]
  },
  {
   "cell_type": "markdown",
   "metadata": {},
   "source": [
    "From the operation above, we can see some important results, such as the mean of the variables. For example, the mean of income was 82.33; the city with the highest income in Paraíba achieved 334.69 (its capital, João Pessoa), while the lowest income recorded was 42.16.  This results indicates that Paraíba is a relatively unequal state."
   ]
  },
  {
   "cell_type": "markdown",
   "metadata": {},
   "source": [
    "Numerical infomations can tell us a lot about the data, however, visualizations usually are the most informative tools to help us understand the data more deeply. Let's take a look at some charts:"
   ]
  },
  {
   "cell_type": "code",
   "execution_count": 5,
   "metadata": {},
   "outputs": [
    {
     "data": {
      "text/plain": [
       "<matplotlib.axes._subplots.AxesSubplot at 0x1864f593e08>"
      ]
     },
     "execution_count": 5,
     "metadata": {},
     "output_type": "execute_result"
    },
    {
     "data": {
      "image/png": "[encoded data removed]",
      "text/plain": [
       "<Figure size 432x288 with 1 Axes>"
      ]
     },
     "metadata": {},
     "output_type": "display_data"
    }
   ],
   "source": [
    "sns.set()\n",
    "sns.distplot(rpb.RendaCapita)"
   ]
  },
  {
   "cell_type": "markdown",
   "metadata": {},
   "source": [
    "The plot above shows us the \"face\" of our target variable. We can see that the variable \"RendaCapita\" has an asymmetric behavior to the left, that is, most infomation is concentrated between 50 and 125. It's reasonable to say that this variable is not normally distributed, but we'll talk about that later. Let's take a look at the explanatory variables:"
   ]
  },
  {
   "cell_type": "code",
   "execution_count": 6,
   "metadata": {},
   "outputs": [
    {
     "data": {
      "text/plain": [
       "Text(4.6, 90, 'Morte1ano')"
      ]
     },
     "execution_count": 6,
     "metadata": {},
     "output_type": "execute_result"
    },
    {
     "data": {
      "image/png": "[encoded data removed]",
      "text/plain": [
       "<Figure size 432x288 with 1 Axes>"
      ]
     },
     "metadata": {},
     "output_type": "display_data"
    }
   ],
   "source": [
    "sns.boxplot(data = rpb.drop(\"RendaCapita\", axis = 1)).get_xaxis().set_ticks([])\n",
    "plt.text(-0.4, 45, \"Adol2grau\")\n",
    "plt.text(0.4, 18, \"AdultoSuperior\", fontsize = 10)\n",
    "plt.text(1.6, 35, \"AdolAnalfa\", fontsize = 10)\n",
    "plt.text(2.4, 72, \"AdultosAnalfa\", fontsize = 10)\n",
    "plt.text(3.7, 14, \"Fecun\", fontsize = 10)\n",
    "plt.text(4.6, 90, \"Morte1ano\", fontsize = 10)"
   ]
  },
  {
   "cell_type": "markdown",
   "metadata": {},
   "source": [
    "Boxplots are really powerfull tools to investigate data, they can show how the infomations are distributed around the location parameter and give a pretty good notion of variation in each variable.\n",
    "\n",
    "The previous plot shows us that some of the explanatory variables are relatively symmetric (But we cannot say that they are normally distributed) with visually distinct variations, such as \"AdultoSuperior\", \"fecun\" and \"Morte1ano\". The boxplots can also give us a sense of possible outliers."
   ]
  },
  {
   "cell_type": "markdown",
   "metadata": {},
   "source": [
    "Althought the linear model only requires normality for the errors (if we want to have inference), we can check if the variables are normally distributed, since normality is a pretty nice property:"
   ]
  },
  {
   "cell_type": "code",
   "execution_count": 7,
   "metadata": {},
   "outputs": [
    {
     "name": "stdout",
     "output_type": "stream",
     "text": [
      "The p-value of Shapiro test for RendaCapita foi:3.562660183481865e-22\n",
      "The p-value of Shapiro test for Adol2grau foi:1.498865961901963e-11\n",
      "The p-value of Shapiro test for AdultoSuperior foi:7.085978086850408e-25\n",
      "The p-value of Shapiro test for AdolAnalfa foi:5.707781747332774e-05\n",
      "The p-value of Shapiro test for AdultosAnalfa foi:0.03303367644548416\n",
      "The p-value of Shapiro test for Fecun foi:1.8646807120603626e-06\n",
      "The p-value of Shapiro test for Morte1ano foi:0.0008763729128986597\n"
     ]
    }
   ],
   "source": [
    "print(\"The p-value of Shapiro test for RendaCapita foi:{}\".format(stats.shapiro(rpb.RendaCapita)[1]))\n",
    "print(\"The p-value of Shapiro test for Adol2grau foi:{}\".format(stats.shapiro(rpb.Adol2grau)[1]))\n",
    "print(\"The p-value of Shapiro test for AdultoSuperior foi:{}\".format(stats.shapiro(rpb.AdultoSuperior)[1]))\n",
    "print(\"The p-value of Shapiro test for AdolAnalfa foi:{}\".format(stats.shapiro(rpb.AdolAnalfa)[1]))\n",
    "print(\"The p-value of Shapiro test for AdultosAnalfa foi:{}\".format(stats.shapiro(rpb.AdultosAnalfa)[1]))\n",
    "print(\"The p-value of Shapiro test for Fecun foi:{}\".format(stats.shapiro(rpb.Fecun)[1]))\n",
    "print(\"The p-value of Shapiro test for Morte1ano foi:{}\".format(stats.shapiro(rpb.Morte1ano)[1]))"
   ]
  },
  {
   "cell_type": "markdown",
   "metadata": {},
   "source": [
    "We can see from the p-values that none of the variables of the dataset are normally distributed, but as was said, the linear model do not expect the variables to be normally distribuited, but in a statistical approach, the errors must be.\n",
    "\n",
    "We saw in the previous boxplots that some of the variables were relatively symmetric, but the Shapiro tests told us that normality should not be considered. One possible reason for not having normally distributed variables is the presence of outliers in the data.\n",
    "\n",
    "The normal distribution has mean=mode=median, but the mean is very sensitive to outliers. So imagine that we have a sample normally distributed (mean=mode=median) containing no outliers. Will this sample have mean=mode=median if we add some outliers to it? Let's verify some possible outliers in data:"
   ]
  },
  {
   "cell_type": "code",
   "execution_count": 8,
   "metadata": {},
   "outputs": [
    {
     "name": "stdout",
     "output_type": "stream",
     "text": [
      "       RendaCapita   Adol2grau  AdultoSuperior  AdolAnalfa  AdultosAnalfa  \\\n",
      "count   223.000000  223.000000      223.000000  223.000000     223.000000   \n",
      "mean     82.336816   10.505919        0.648206   11.243004      45.552960   \n",
      "std      30.552834    5.777486        0.913395    5.016782       8.875176   \n",
      "min      42.160000    0.850000        0.020000    2.580000      14.030000   \n",
      "25%      67.090000    6.775000        0.220000    7.425000      40.025000   \n",
      "50%      76.440000    9.160000        0.470000   10.870000      45.960000   \n",
      "75%      89.650000   13.320000        0.725000   14.470000      52.115000   \n",
      "max     334.690000   41.020000        8.600000   30.880000      66.330000   \n",
      "-3std    -9.321685   -6.826540       -2.091977   -3.807340      18.927430   \n",
      "+3std   173.995317   27.838378        3.388390   26.293349      72.178489   \n",
      "\n",
      "            Fecun   Morte1ano  \n",
      "count  223.000000  223.000000  \n",
      "mean     2.977534   57.165202  \n",
      "std      0.553649   12.885656  \n",
      "min      1.930000   25.520000  \n",
      "25%      2.510000   47.590000  \n",
      "50%      2.900000   57.840000  \n",
      "75%      3.330000   67.660000  \n",
      "max      4.880000   84.290000  \n",
      "-3std    1.316588   18.508234  \n",
      "+3std    4.638479   95.822170  \n"
     ]
    }
   ],
   "source": [
    "#Adding metrics based on the distance from the mean of the variables\n",
    "desc_df = rpb.describe()\n",
    "desc_df.loc[\"-3std\"] = desc_df.loc[\"mean\"] - 3*(desc_df.loc[\"std\"])\n",
    "desc_df.loc[\"+3std\"] = desc_df.loc[\"mean\"] + 3*(desc_df.loc[\"std\"])\n",
    "print(desc_df)"
   ]
  },
  {
   "cell_type": "code",
   "execution_count": 9,
   "metadata": {},
   "outputs": [
    {
     "data": {
      "text/plain": [
       "Int64Index([39, 43, 49, 50, 93, 164, 219], dtype='int64')"
      ]
     },
     "execution_count": 9,
     "metadata": {},
     "output_type": "execute_result"
    }
   ],
   "source": [
    "#Checking the values that exceed 3 standard deviations from the mean\n",
    "out = rpb[(np.abs(stats.zscore(rpb))<3).all(axis=1)]\n",
    "rpb.index.difference(out.index)"
   ]
  },
  {
   "cell_type": "markdown",
   "metadata": {},
   "source": [
    "Seven observations were considered to be outliers compared to the rest of the data. However, in this case, it is not reasonable to consider the exclusion of this observations from the dataset. We are dealing with income and socioeconomics data from cities, and we know for fact that some cities are more developed, while others are poorer. With this in mind, we know that we can remove this observations but this action would lead us to inaccurate results."
   ]
  },
  {
   "cell_type": "markdown",
   "metadata": {},
   "source": [
    "## The Model and its Assumptions"
   ]
  },
  {
   "cell_type": "markdown",
   "metadata": {},
   "source": [
    "In its theorical base, the linear regression model classical assumptions can be basically summarized in:\n",
    "* The mean of the error terms is equal to zero;\n",
    "* The errors are homoscedastics;\n",
    "* The errors are normally distributed (optional);\n",
    "* Linearity;\n",
    "* The explanatory variables are not perfectly correlated (perfect multicolinearity);\n",
    "* The error terms are uncorrelated."
   ]
  },
  {
   "cell_type": "markdown",
   "metadata": {},
   "source": [
    "### Multicollinearity"
   ]
  },
  {
   "cell_type": "markdown",
   "metadata": {},
   "source": [
    "To check for multicollinearity, we can start using some basics techniques such as correlation matrices and heatmaps of correlations. Let's check it out:"
   ]
  },
  {
   "cell_type": "code",
   "execution_count": 10,
   "metadata": {},
   "outputs": [
    {
     "name": "stdout",
     "output_type": "stream",
     "text": [
      "                RendaCapita  Adol2grau  AdultoSuperior  AdolAnalfa  \\\n",
      "RendaCapita        1.000000   0.691360        0.884357   -0.410581   \n",
      "Adol2grau          0.691360   1.000000        0.531049   -0.550435   \n",
      "AdultoSuperior     0.884357   0.531049        1.000000   -0.228508   \n",
      "AdolAnalfa        -0.410581  -0.550435       -0.228508    1.000000   \n",
      "AdultosAnalfa     -0.678674  -0.742039       -0.492016    0.772217   \n",
      "Fecun             -0.364014  -0.298567       -0.255959    0.346702   \n",
      "Morte1ano         -0.407456  -0.416436       -0.246324    0.412061   \n",
      "\n",
      "                AdultosAnalfa     Fecun  Morte1ano  \n",
      "RendaCapita         -0.678674 -0.364014  -0.407456  \n",
      "Adol2grau           -0.742039 -0.298567  -0.416436  \n",
      "AdultoSuperior      -0.492016 -0.255959  -0.246324  \n",
      "AdolAnalfa           0.772217  0.346702   0.412061  \n",
      "AdultosAnalfa        1.000000  0.404182   0.537534  \n",
      "Fecun                0.404182  1.000000   0.408167  \n",
      "Morte1ano            0.537534  0.408167   1.000000  \n"
     ]
    }
   ],
   "source": [
    "corr = rpb.corr()\n",
    "print(corr)"
   ]
  },
  {
   "cell_type": "code",
   "execution_count": 11,
   "metadata": {},
   "outputs": [
    {
     "data": {
      "text/plain": [
       "<matplotlib.axes._subplots.AxesSubplot at 0x18648f109c8>"
      ]
     },
     "execution_count": 11,
     "metadata": {},
     "output_type": "execute_result"
    },
    {
     "data": {
      "image/png": "[encoded data removed]",
      "text/plain": [
       "<Figure size 432x288 with 2 Axes>"
      ]
     },
     "metadata": {},
     "output_type": "display_data"
    }
   ],
   "source": [
    "#Heatmap from correlation matrix:\n",
    "sns.heatmap(corr, xticklabels = corr.columns, yticklabels = corr.columns, cmap = 'RdBu')"
   ]
  },
  {
   "cell_type": "markdown",
   "metadata": {},
   "source": [
    "To work with a linear model, we expect the explanatory variables to be uncorrelated among them, but highly corraleted with the target variable.\n",
    "\n",
    "We can see from the previous results that there are some seeming strong (negative) correlation between  \"AdultosAnalfa - Adultos2grau\" and (positive) between \"AdultosAnalfa - AdolAnalfa\". This is not a surprising result, once we expect that the number of illiterate adults to decrease as the number of adults in high school increase. And it is also normal to expect that if the number of illiterate adolescents rises, the number of illiterate adults will rise too.\n",
    "\n",
    "So, we in order to prevent the model from multicollinearity, we have to investigate the consequences of keeping all variables in the model. To do that, we can use a pretty neat tool called Variance Inflation Factor (VIF)."
   ]
  },
  {
   "cell_type": "markdown",
   "metadata": {},
   "source": [
    "The Variance Inflation Factor works by fitting several models between pairs of explanatory variables. Using the R-squared of these models, the VIF is calculated by the ratio $VIF = \\frac{1}{1-R^2}$. If two explanatory variables are highly correlated, the R-squared of their model will be something close to 1 and the VIF wiil result in a very high value (indicating multicollinearity). If R-squared=1, the VIF is not defined and that is a case of perfect multicollinearity (we must avoid that).\n",
    "\n",
    "Let's calculate the VIFs keeping all variables to see what is going on:"
   ]
  },
  {
   "cell_type": "code",
   "execution_count": 12,
   "metadata": {},
   "outputs": [
    {
     "name": "stderr",
     "output_type": "stream",
     "text": [
      "D:\\Python\\lib\\site-packages\\numpy\\core\\fromnumeric.py:2389: FutureWarning: Method .ptp is deprecated and will be removed in a future version. Use numpy.ptp instead.\n",
      "  return ptp(axis=axis, out=out, **kwargs)\n"
     ]
    }
   ],
   "source": [
    "#Selectiong the explanatory variables\n",
    "X_all = rpb.drop(\"RendaCapita\", axis = 1)\n",
    "\n",
    "#Adding a constant column to represent the intercept (required by VIF)\n",
    "X_all = sm.tools.add_constant(X_all)"
   ]
  },
  {
   "cell_type": "code",
   "execution_count": 13,
   "metadata": {},
   "outputs": [
    {
     "name": "stdout",
     "output_type": "stream",
     "text": [
      "VIFs Before Removing Any Variable\n",
      "------------------------------------------------------------------------------------------------------------------------\n",
      "const             131.383911\n",
      "Adol2grau           2.430113\n",
      "AdultoSuperior      1.569027\n",
      "AdolAnalfa          2.702076\n",
      "AdultosAnalfa       4.673505\n",
      "Fecun               1.293464\n",
      "Morte1ano           1.506356\n",
      "dtype: float64\n"
     ]
    }
   ],
   "source": [
    "#Calculating and printing the VIFs\n",
    "series_before = pd.Series([VIF(X_all.values, i) for i in range(X_all.shape[1])], index = X_all.columns)\n",
    "print(\"VIFs Before Removing Any Variable\")\n",
    "print(\"--\"*60)\n",
    "print(series_before)"
   ]
  },
  {
   "cell_type": "markdown",
   "metadata": {},
   "source": [
    "Now we have something a little unexpected. The correlations results indicated that there was a high chance of having multicollinearity among the variable, however the VIF results are denying that, since we consider multicollinearity for values of VIF above 5. Thus, we will buit our initial model considering all explanatory variables, that is, there is no multicollinearity in the data."
   ]
  },
  {
   "cell_type": "markdown",
   "metadata": {},
   "source": [
    "### Modeling Process"
   ]
  },
  {
   "cell_type": "code",
   "execution_count": 14,
   "metadata": {},
   "outputs": [],
   "source": [
    "#instanciating and difining the model\n",
    "model = sm.OLS(rpb.RendaCapita, X_all)\n",
    "fit = model.fit()"
   ]
  },
  {
   "cell_type": "code",
   "execution_count": 15,
   "metadata": {},
   "outputs": [
    {
     "data": {
      "text/html": [
       "<table class=\"simpletable\">\n",
       "<caption>OLS Regression Results</caption>\n",
       "<tr>\n",
       "  <th>Dep. Variable:</th>       <td>RendaCapita</td>   <th>  R-squared:         </th> <td>   0.877</td>\n",
       "</tr>\n",
       "<tr>\n",
       "  <th>Model:</th>                   <td>OLS</td>       <th>  Adj. R-squared:    </th> <td>   0.874</td>\n",
       "</tr>\n",
       "<tr>\n",
       "  <th>Method:</th>             <td>Least Squares</td>  <th>  F-statistic:       </th> <td>   256.6</td>\n",
       "</tr>\n",
       "<tr>\n",
       "  <th>Date:</th>             <td>Wed, 30 Sep 2020</td> <th>  Prob (F-statistic):</th> <td>2.42e-95</td>\n",
       "</tr>\n",
       "<tr>\n",
       "  <th>Time:</th>                 <td>12:01:33</td>     <th>  Log-Likelihood:    </th> <td> -844.83</td>\n",
       "</tr>\n",
       "<tr>\n",
       "  <th>No. Observations:</th>      <td>   223</td>      <th>  AIC:               </th> <td>   1704.</td>\n",
       "</tr>\n",
       "<tr>\n",
       "  <th>Df Residuals:</th>          <td>   216</td>      <th>  BIC:               </th> <td>   1728.</td>\n",
       "</tr>\n",
       "<tr>\n",
       "  <th>Df Model:</th>              <td>     6</td>      <th>                     </th>     <td> </td>   \n",
       "</tr>\n",
       "<tr>\n",
       "  <th>Covariance Type:</th>      <td>nonrobust</td>    <th>                     </th>     <td> </td>   \n",
       "</tr>\n",
       "</table>\n",
       "<table class=\"simpletable\">\n",
       "<tr>\n",
       "         <td></td>           <th>coef</th>     <th>std err</th>      <th>t</th>      <th>P>|t|</th>  <th>[0.025</th>    <th>0.975]</th>  \n",
       "</tr>\n",
       "<tr>\n",
       "  <th>const</th>          <td>  102.1742</td> <td>    8.339</td> <td>   12.252</td> <td> 0.000</td> <td>   85.738</td> <td>  118.611</td>\n",
       "</tr>\n",
       "<tr>\n",
       "  <th>Adol2grau</th>      <td>    0.8551</td> <td>    0.197</td> <td>    4.346</td> <td> 0.000</td> <td>    0.467</td> <td>    1.243</td>\n",
       "</tr>\n",
       "<tr>\n",
       "  <th>AdultoSuperior</th> <td>   22.9112</td> <td>    1.000</td> <td>   22.912</td> <td> 0.000</td> <td>   20.940</td> <td>   24.882</td>\n",
       "</tr>\n",
       "<tr>\n",
       "  <th>AdolAnalfa</th>     <td>    0.1145</td> <td>    0.239</td> <td>    0.479</td> <td> 0.632</td> <td>   -0.356</td> <td>    0.585</td>\n",
       "</tr>\n",
       "<tr>\n",
       "  <th>AdultosAnalfa</th>  <td>   -0.6347</td> <td>    0.178</td> <td>   -3.573</td> <td> 0.000</td> <td>   -0.985</td> <td>   -0.285</td>\n",
       "</tr>\n",
       "<tr>\n",
       "  <th>Fecun</th>          <td>   -2.6320</td> <td>    1.498</td> <td>   -1.757</td> <td> 0.080</td> <td>   -5.584</td> <td>    0.320</td>\n",
       "</tr>\n",
       "<tr>\n",
       "  <th>Morte1ano</th>      <td>   -0.1436</td> <td>    0.069</td> <td>   -2.068</td> <td> 0.040</td> <td>   -0.281</td> <td>   -0.007</td>\n",
       "</tr>\n",
       "</table>\n",
       "<table class=\"simpletable\">\n",
       "<tr>\n",
       "  <th>Omnibus:</th>       <td> 5.795</td> <th>  Durbin-Watson:     </th> <td>   1.765</td>\n",
       "</tr>\n",
       "<tr>\n",
       "  <th>Prob(Omnibus):</th> <td> 0.055</td> <th>  Jarque-Bera (JB):  </th> <td>   5.568</td>\n",
       "</tr>\n",
       "<tr>\n",
       "  <th>Skew:</th>          <td>-0.319</td> <th>  Prob(JB):          </th> <td>  0.0618</td>\n",
       "</tr>\n",
       "<tr>\n",
       "  <th>Kurtosis:</th>      <td> 3.439</td> <th>  Cond. No.          </th> <td>    873.</td>\n",
       "</tr>\n",
       "</table><br/><br/>Warnings:<br/>[1] Standard Errors assume that the covariance matrix of the errors is correctly specified."
      ],
      "text/plain": [
       "<class 'statsmodels.iolib.summary.Summary'>\n",
       "\"\"\"\n",
       "                            OLS Regression Results                            \n",
       "==============================================================================\n",
       "Dep. Variable:            RendaCapita   R-squared:                       0.877\n",
       "Model:                            OLS   Adj. R-squared:                  0.874\n",
       "Method:                 Least Squares   F-statistic:                     256.6\n",
       "Date:                Wed, 30 Sep 2020   Prob (F-statistic):           2.42e-95\n",
       "Time:                        12:01:33   Log-Likelihood:                -844.83\n",
       "No. Observations:                 223   AIC:                             1704.\n",
       "Df Residuals:                     216   BIC:                             1728.\n",
       "Df Model:                           6                                         \n",
       "Covariance Type:            nonrobust                                         \n",
       "==================================================================================\n",
       "                     coef    std err          t      P>|t|      [0.025      0.975]\n",
       "----------------------------------------------------------------------------------\n",
       "const            102.1742      8.339     12.252      0.000      85.738     118.611\n",
       "Adol2grau          0.8551      0.197      4.346      0.000       0.467       1.243\n",
       "AdultoSuperior    22.9112      1.000     22.912      0.000      20.940      24.882\n",
       "AdolAnalfa         0.1145      0.239      0.479      0.632      -0.356       0.585\n",
       "AdultosAnalfa     -0.6347      0.178     -3.573      0.000      -0.985      -0.285\n",
       "Fecun             -2.6320      1.498     -1.757      0.080      -5.584       0.320\n",
       "Morte1ano         -0.1436      0.069     -2.068      0.040      -0.281      -0.007\n",
       "==============================================================================\n",
       "Omnibus:                        5.795   Durbin-Watson:                   1.765\n",
       "Prob(Omnibus):                  0.055   Jarque-Bera (JB):                5.568\n",
       "Skew:                          -0.319   Prob(JB):                       0.0618\n",
       "Kurtosis:                       3.439   Cond. No.                         873.\n",
       "==============================================================================\n",
       "\n",
       "Warnings:\n",
       "[1] Standard Errors assume that the covariance matrix of the errors is correctly specified.\n",
       "\"\"\""
      ]
     },
     "execution_count": 15,
     "metadata": {},
     "output_type": "execute_result"
    }
   ],
   "source": [
    "#summary of the trained model\n",
    "fit.summary()"
   ]
  },
  {
   "cell_type": "markdown",
   "metadata": {},
   "source": [
    "The summary method is a great tool. Calling summary from the \"fit\" object, we get to see some important results of our model, such as R-squared, the F-statistic with its p-value, the t-statistics with its p-values and more.\n",
    "\n",
    "From the summary above we can see that the R-squared of the model was equal to 0.87, that is, 87% of the variation of the income variable can be explained by the socioeconomics explanatory varibles considered.\n",
    "\n",
    "The F test is a hypotesis test to investigate the significance of the model and it is also called \"Global Adequacy Test\". We conclude based on its p-value, that the model is significant.\n",
    "\n",
    "A import thing to consider in a statistical approach of a linear model is the significance of each variable to the this model. Using the t test we are able to verify if all, some or none of the variables are significant to the model. The t-statistic is  calculated by the ratio between the coefficient of a variable and its standard error and then it can be compared to a t-critic (tabulated value) to make a decision (or decided by the p-value). If the null hypotesis is not rejected, we say that the coefficient is not statistically different from zero, and then we can take the related variable out of the model for not contribuiting to it.\n",
    "\n",
    "Looking at the p-values of the t tests and considering a significance level of 5%, we can see that 2 of the variables seems to be irrelevant to the model, they are: Adolanalfa and Fecun. Since their p-values are greater the 0.05, we can start taking them out one by one, ALWAYS taking the variable of highest p-value first, and this is because the act of removing the variable of highest p-value can make variables once irrelevant, relevant.\n",
    "\n",
    "So, considering what was said, let's start taking the \"AdolAnalfa\" variable out:"
   ]
  },
  {
   "cell_type": "code",
   "execution_count": 16,
   "metadata": {},
   "outputs": [],
   "source": [
    "X_all = X_all.drop([\"AdolAnalfa\"], axis = 1)"
   ]
  },
  {
   "cell_type": "code",
   "execution_count": 17,
   "metadata": {},
   "outputs": [
    {
     "data": {
      "text/html": [
       "<table class=\"simpletable\">\n",
       "<caption>OLS Regression Results</caption>\n",
       "<tr>\n",
       "  <th>Dep. Variable:</th>       <td>RendaCapita</td>   <th>  R-squared:         </th> <td>   0.877</td>\n",
       "</tr>\n",
       "<tr>\n",
       "  <th>Model:</th>                   <td>OLS</td>       <th>  Adj. R-squared:    </th> <td>   0.874</td>\n",
       "</tr>\n",
       "<tr>\n",
       "  <th>Method:</th>             <td>Least Squares</td>  <th>  F-statistic:       </th> <td>   309.0</td>\n",
       "</tr>\n",
       "<tr>\n",
       "  <th>Date:</th>             <td>Wed, 30 Sep 2020</td> <th>  Prob (F-statistic):</th> <td>1.47e-96</td>\n",
       "</tr>\n",
       "<tr>\n",
       "  <th>Time:</th>                 <td>12:01:33</td>     <th>  Log-Likelihood:    </th> <td> -844.95</td>\n",
       "</tr>\n",
       "<tr>\n",
       "  <th>No. Observations:</th>      <td>   223</td>      <th>  AIC:               </th> <td>   1702.</td>\n",
       "</tr>\n",
       "<tr>\n",
       "  <th>Df Residuals:</th>          <td>   217</td>      <th>  BIC:               </th> <td>   1722.</td>\n",
       "</tr>\n",
       "<tr>\n",
       "  <th>Df Model:</th>              <td>     5</td>      <th>                     </th>     <td> </td>   \n",
       "</tr>\n",
       "<tr>\n",
       "  <th>Covariance Type:</th>      <td>nonrobust</td>    <th>                     </th>     <td> </td>   \n",
       "</tr>\n",
       "</table>\n",
       "<table class=\"simpletable\">\n",
       "<tr>\n",
       "         <td></td>           <th>coef</th>     <th>std err</th>      <th>t</th>      <th>P>|t|</th>  <th>[0.025</th>    <th>0.975]</th>  \n",
       "</tr>\n",
       "<tr>\n",
       "  <th>const</th>          <td>  100.7937</td> <td>    7.812</td> <td>   12.902</td> <td> 0.000</td> <td>   85.396</td> <td>  116.191</td>\n",
       "</tr>\n",
       "<tr>\n",
       "  <th>Adol2grau</th>      <td>    0.8522</td> <td>    0.196</td> <td>    4.341</td> <td> 0.000</td> <td>    0.465</td> <td>    1.239</td>\n",
       "</tr>\n",
       "<tr>\n",
       "  <th>AdultoSuperior</th> <td>   23.0442</td> <td>    0.959</td> <td>   24.030</td> <td> 0.000</td> <td>   21.154</td> <td>   24.934</td>\n",
       "</tr>\n",
       "<tr>\n",
       "  <th>AdultosAnalfa</th>  <td>   -0.5800</td> <td>    0.136</td> <td>   -4.266</td> <td> 0.000</td> <td>   -0.848</td> <td>   -0.312</td>\n",
       "</tr>\n",
       "<tr>\n",
       "  <th>Fecun</th>          <td>   -2.5677</td> <td>    1.489</td> <td>   -1.724</td> <td> 0.086</td> <td>   -5.503</td> <td>    0.367</td>\n",
       "</tr>\n",
       "<tr>\n",
       "  <th>Morte1ano</th>      <td>   -0.1448</td> <td>    0.069</td> <td>   -2.091</td> <td> 0.038</td> <td>   -0.281</td> <td>   -0.008</td>\n",
       "</tr>\n",
       "</table>\n",
       "<table class=\"simpletable\">\n",
       "<tr>\n",
       "  <th>Omnibus:</th>       <td> 5.636</td> <th>  Durbin-Watson:     </th> <td>   1.767</td>\n",
       "</tr>\n",
       "<tr>\n",
       "  <th>Prob(Omnibus):</th> <td> 0.060</td> <th>  Jarque-Bera (JB):  </th> <td>   5.365</td>\n",
       "</tr>\n",
       "<tr>\n",
       "  <th>Skew:</th>          <td>-0.319</td> <th>  Prob(JB):          </th> <td>  0.0684</td>\n",
       "</tr>\n",
       "<tr>\n",
       "  <th>Kurtosis:</th>      <td> 3.413</td> <th>  Cond. No.          </th> <td>    810.</td>\n",
       "</tr>\n",
       "</table><br/><br/>Warnings:<br/>[1] Standard Errors assume that the covariance matrix of the errors is correctly specified."
      ],
      "text/plain": [
       "<class 'statsmodels.iolib.summary.Summary'>\n",
       "\"\"\"\n",
       "                            OLS Regression Results                            \n",
       "==============================================================================\n",
       "Dep. Variable:            RendaCapita   R-squared:                       0.877\n",
       "Model:                            OLS   Adj. R-squared:                  0.874\n",
       "Method:                 Least Squares   F-statistic:                     309.0\n",
       "Date:                Wed, 30 Sep 2020   Prob (F-statistic):           1.47e-96\n",
       "Time:                        12:01:33   Log-Likelihood:                -844.95\n",
       "No. Observations:                 223   AIC:                             1702.\n",
       "Df Residuals:                     217   BIC:                             1722.\n",
       "Df Model:                           5                                         \n",
       "Covariance Type:            nonrobust                                         \n",
       "==================================================================================\n",
       "                     coef    std err          t      P>|t|      [0.025      0.975]\n",
       "----------------------------------------------------------------------------------\n",
       "const            100.7937      7.812     12.902      0.000      85.396     116.191\n",
       "Adol2grau          0.8522      0.196      4.341      0.000       0.465       1.239\n",
       "AdultoSuperior    23.0442      0.959     24.030      0.000      21.154      24.934\n",
       "AdultosAnalfa     -0.5800      0.136     -4.266      0.000      -0.848      -0.312\n",
       "Fecun             -2.5677      1.489     -1.724      0.086      -5.503       0.367\n",
       "Morte1ano         -0.1448      0.069     -2.091      0.038      -0.281      -0.008\n",
       "==============================================================================\n",
       "Omnibus:                        5.636   Durbin-Watson:                   1.767\n",
       "Prob(Omnibus):                  0.060   Jarque-Bera (JB):                5.365\n",
       "Skew:                          -0.319   Prob(JB):                       0.0684\n",
       "Kurtosis:                       3.413   Cond. No.                         810.\n",
       "==============================================================================\n",
       "\n",
       "Warnings:\n",
       "[1] Standard Errors assume that the covariance matrix of the errors is correctly specified.\n",
       "\"\"\""
      ]
     },
     "execution_count": 17,
     "metadata": {},
     "output_type": "execute_result"
    }
   ],
   "source": [
    "model = sm.OLS(rpb.RendaCapita, X_all)\n",
    "fit = model.fit()\n",
    "fit.summary()"
   ]
  },
  {
   "cell_type": "markdown",
   "metadata": {},
   "source": [
    "The variable \"Fecun\" is still not significant to the model. Let's take it out:"
   ]
  },
  {
   "cell_type": "code",
   "execution_count": 18,
   "metadata": {},
   "outputs": [],
   "source": [
    "X_all = X_all.drop([\"Fecun\"], axis = 1)"
   ]
  },
  {
   "cell_type": "code",
   "execution_count": 19,
   "metadata": {},
   "outputs": [
    {
     "data": {
      "text/html": [
       "<table class=\"simpletable\">\n",
       "<caption>OLS Regression Results</caption>\n",
       "<tr>\n",
       "  <th>Dep. Variable:</th>       <td>RendaCapita</td>   <th>  R-squared:         </th> <td>   0.875</td>\n",
       "</tr>\n",
       "<tr>\n",
       "  <th>Model:</th>                   <td>OLS</td>       <th>  Adj. R-squared:    </th> <td>   0.873</td>\n",
       "</tr>\n",
       "<tr>\n",
       "  <th>Method:</th>             <td>Least Squares</td>  <th>  F-statistic:       </th> <td>   382.0</td>\n",
       "</tr>\n",
       "<tr>\n",
       "  <th>Date:</th>             <td>Wed, 30 Sep 2020</td> <th>  Prob (F-statistic):</th> <td>3.08e-97</td>\n",
       "</tr>\n",
       "<tr>\n",
       "  <th>Time:</th>                 <td>12:01:33</td>     <th>  Log-Likelihood:    </th> <td> -846.46</td>\n",
       "</tr>\n",
       "<tr>\n",
       "  <th>No. Observations:</th>      <td>   223</td>      <th>  AIC:               </th> <td>   1703.</td>\n",
       "</tr>\n",
       "<tr>\n",
       "  <th>Df Residuals:</th>          <td>   218</td>      <th>  BIC:               </th> <td>   1720.</td>\n",
       "</tr>\n",
       "<tr>\n",
       "  <th>Df Model:</th>              <td>     4</td>      <th>                     </th>     <td> </td>   \n",
       "</tr>\n",
       "<tr>\n",
       "  <th>Covariance Type:</th>      <td>nonrobust</td>    <th>                     </th>     <td> </td>   \n",
       "</tr>\n",
       "</table>\n",
       "<table class=\"simpletable\">\n",
       "<tr>\n",
       "         <td></td>           <th>coef</th>     <th>std err</th>      <th>t</th>      <th>P>|t|</th>  <th>[0.025</th>    <th>0.975]</th>  \n",
       "</tr>\n",
       "<tr>\n",
       "  <th>const</th>          <td>   96.7034</td> <td>    7.477</td> <td>   12.933</td> <td> 0.000</td> <td>   81.967</td> <td>  111.440</td>\n",
       "</tr>\n",
       "<tr>\n",
       "  <th>Adol2grau</th>      <td>    0.8405</td> <td>    0.197</td> <td>    4.265</td> <td> 0.000</td> <td>    0.452</td> <td>    1.229</td>\n",
       "</tr>\n",
       "<tr>\n",
       "  <th>AdultoSuperior</th> <td>   23.1879</td> <td>    0.960</td> <td>   24.163</td> <td> 0.000</td> <td>   21.296</td> <td>   25.079</td>\n",
       "</tr>\n",
       "<tr>\n",
       "  <th>AdultosAnalfa</th>  <td>   -0.6197</td> <td>    0.135</td> <td>   -4.605</td> <td> 0.000</td> <td>   -0.885</td> <td>   -0.354</td>\n",
       "</tr>\n",
       "<tr>\n",
       "  <th>Morte1ano</th>      <td>   -0.1749</td> <td>    0.067</td> <td>   -2.596</td> <td> 0.010</td> <td>   -0.308</td> <td>   -0.042</td>\n",
       "</tr>\n",
       "</table>\n",
       "<table class=\"simpletable\">\n",
       "<tr>\n",
       "  <th>Omnibus:</th>       <td> 5.296</td> <th>  Durbin-Watson:     </th> <td>   1.752</td>\n",
       "</tr>\n",
       "<tr>\n",
       "  <th>Prob(Omnibus):</th> <td> 0.071</td> <th>  Jarque-Bera (JB):  </th> <td>   5.005</td>\n",
       "</tr>\n",
       "<tr>\n",
       "  <th>Skew:</th>          <td>-0.306</td> <th>  Prob(JB):          </th> <td>  0.0819</td>\n",
       "</tr>\n",
       "<tr>\n",
       "  <th>Kurtosis:</th>      <td> 3.404</td> <th>  Cond. No.          </th> <td>    769.</td>\n",
       "</tr>\n",
       "</table><br/><br/>Warnings:<br/>[1] Standard Errors assume that the covariance matrix of the errors is correctly specified."
      ],
      "text/plain": [
       "<class 'statsmodels.iolib.summary.Summary'>\n",
       "\"\"\"\n",
       "                            OLS Regression Results                            \n",
       "==============================================================================\n",
       "Dep. Variable:            RendaCapita   R-squared:                       0.875\n",
       "Model:                            OLS   Adj. R-squared:                  0.873\n",
       "Method:                 Least Squares   F-statistic:                     382.0\n",
       "Date:                Wed, 30 Sep 2020   Prob (F-statistic):           3.08e-97\n",
       "Time:                        12:01:33   Log-Likelihood:                -846.46\n",
       "No. Observations:                 223   AIC:                             1703.\n",
       "Df Residuals:                     218   BIC:                             1720.\n",
       "Df Model:                           4                                         \n",
       "Covariance Type:            nonrobust                                         \n",
       "==================================================================================\n",
       "                     coef    std err          t      P>|t|      [0.025      0.975]\n",
       "----------------------------------------------------------------------------------\n",
       "const             96.7034      7.477     12.933      0.000      81.967     111.440\n",
       "Adol2grau          0.8405      0.197      4.265      0.000       0.452       1.229\n",
       "AdultoSuperior    23.1879      0.960     24.163      0.000      21.296      25.079\n",
       "AdultosAnalfa     -0.6197      0.135     -4.605      0.000      -0.885      -0.354\n",
       "Morte1ano         -0.1749      0.067     -2.596      0.010      -0.308      -0.042\n",
       "==============================================================================\n",
       "Omnibus:                        5.296   Durbin-Watson:                   1.752\n",
       "Prob(Omnibus):                  0.071   Jarque-Bera (JB):                5.005\n",
       "Skew:                          -0.306   Prob(JB):                       0.0819\n",
       "Kurtosis:                       3.404   Cond. No.                         769.\n",
       "==============================================================================\n",
       "\n",
       "Warnings:\n",
       "[1] Standard Errors assume that the covariance matrix of the errors is correctly specified.\n",
       "\"\"\""
      ]
     },
     "execution_count": 19,
     "metadata": {},
     "output_type": "execute_result"
    }
   ],
   "source": [
    "model = sm.OLS(rpb.RendaCapita, X_all)\n",
    "fit = model.fit()\n",
    "fit.summary()"
   ]
  },
  {
   "cell_type": "markdown",
   "metadata": {},
   "source": [
    "Now, we can see that all the variables are significant to our model, then we can split the data into train and test sets to produce much reliable results:"
   ]
  },
  {
   "cell_type": "code",
   "execution_count": 20,
   "metadata": {},
   "outputs": [],
   "source": [
    "#spliting the data in sets of train and test\n",
    "Xtrain, Xtest, ytrain, ytest = train_test_split(X_all, rpb.RendaCapita, random_state = 97)"
   ]
  },
  {
   "cell_type": "code",
   "execution_count": 21,
   "metadata": {},
   "outputs": [
    {
     "data": {
      "text/html": [
       "<table class=\"simpletable\">\n",
       "<caption>OLS Regression Results</caption>\n",
       "<tr>\n",
       "  <th>Dep. Variable:</th>       <td>RendaCapita</td>   <th>  R-squared:         </th> <td>   0.899</td>\n",
       "</tr>\n",
       "<tr>\n",
       "  <th>Model:</th>                   <td>OLS</td>       <th>  Adj. R-squared:    </th> <td>   0.896</td>\n",
       "</tr>\n",
       "<tr>\n",
       "  <th>Method:</th>             <td>Least Squares</td>  <th>  F-statistic:       </th> <td>   358.9</td>\n",
       "</tr>\n",
       "<tr>\n",
       "  <th>Date:</th>             <td>Wed, 30 Sep 2020</td> <th>  Prob (F-statistic):</th> <td>2.27e-79</td>\n",
       "</tr>\n",
       "<tr>\n",
       "  <th>Time:</th>                 <td>12:01:34</td>     <th>  Log-Likelihood:    </th> <td> -631.81</td>\n",
       "</tr>\n",
       "<tr>\n",
       "  <th>No. Observations:</th>      <td>   167</td>      <th>  AIC:               </th> <td>   1274.</td>\n",
       "</tr>\n",
       "<tr>\n",
       "  <th>Df Residuals:</th>          <td>   162</td>      <th>  BIC:               </th> <td>   1289.</td>\n",
       "</tr>\n",
       "<tr>\n",
       "  <th>Df Model:</th>              <td>     4</td>      <th>                     </th>     <td> </td>   \n",
       "</tr>\n",
       "<tr>\n",
       "  <th>Covariance Type:</th>      <td>nonrobust</td>    <th>                     </th>     <td> </td>   \n",
       "</tr>\n",
       "</table>\n",
       "<table class=\"simpletable\">\n",
       "<tr>\n",
       "         <td></td>           <th>coef</th>     <th>std err</th>      <th>t</th>      <th>P>|t|</th>  <th>[0.025</th>    <th>0.975]</th>  \n",
       "</tr>\n",
       "<tr>\n",
       "  <th>const</th>          <td>   96.8998</td> <td>    8.362</td> <td>   11.588</td> <td> 0.000</td> <td>   80.388</td> <td>  113.412</td>\n",
       "</tr>\n",
       "<tr>\n",
       "  <th>Adol2grau</th>      <td>    0.7277</td> <td>    0.215</td> <td>    3.380</td> <td> 0.001</td> <td>    0.303</td> <td>    1.153</td>\n",
       "</tr>\n",
       "<tr>\n",
       "  <th>AdultoSuperior</th> <td>   24.0993</td> <td>    1.007</td> <td>   23.930</td> <td> 0.000</td> <td>   22.111</td> <td>   26.088</td>\n",
       "</tr>\n",
       "<tr>\n",
       "  <th>AdultosAnalfa</th>  <td>   -0.5817</td> <td>    0.150</td> <td>   -3.887</td> <td> 0.000</td> <td>   -0.877</td> <td>   -0.286</td>\n",
       "</tr>\n",
       "<tr>\n",
       "  <th>Morte1ano</th>      <td>   -0.2185</td> <td>    0.077</td> <td>   -2.853</td> <td> 0.005</td> <td>   -0.370</td> <td>   -0.067</td>\n",
       "</tr>\n",
       "</table>\n",
       "<table class=\"simpletable\">\n",
       "<tr>\n",
       "  <th>Omnibus:</th>       <td> 4.433</td> <th>  Durbin-Watson:     </th> <td>   1.827</td>\n",
       "</tr>\n",
       "<tr>\n",
       "  <th>Prob(Omnibus):</th> <td> 0.109</td> <th>  Jarque-Bera (JB):  </th> <td>   4.140</td>\n",
       "</tr>\n",
       "<tr>\n",
       "  <th>Skew:</th>          <td>-0.382</td> <th>  Prob(JB):          </th> <td>   0.126</td>\n",
       "</tr>\n",
       "<tr>\n",
       "  <th>Kurtosis:</th>      <td> 3.104</td> <th>  Cond. No.          </th> <td>    743.</td>\n",
       "</tr>\n",
       "</table><br/><br/>Warnings:<br/>[1] Standard Errors assume that the covariance matrix of the errors is correctly specified."
      ],
      "text/plain": [
       "<class 'statsmodels.iolib.summary.Summary'>\n",
       "\"\"\"\n",
       "                            OLS Regression Results                            \n",
       "==============================================================================\n",
       "Dep. Variable:            RendaCapita   R-squared:                       0.899\n",
       "Model:                            OLS   Adj. R-squared:                  0.896\n",
       "Method:                 Least Squares   F-statistic:                     358.9\n",
       "Date:                Wed, 30 Sep 2020   Prob (F-statistic):           2.27e-79\n",
       "Time:                        12:01:34   Log-Likelihood:                -631.81\n",
       "No. Observations:                 167   AIC:                             1274.\n",
       "Df Residuals:                     162   BIC:                             1289.\n",
       "Df Model:                           4                                         \n",
       "Covariance Type:            nonrobust                                         \n",
       "==================================================================================\n",
       "                     coef    std err          t      P>|t|      [0.025      0.975]\n",
       "----------------------------------------------------------------------------------\n",
       "const             96.8998      8.362     11.588      0.000      80.388     113.412\n",
       "Adol2grau          0.7277      0.215      3.380      0.001       0.303       1.153\n",
       "AdultoSuperior    24.0993      1.007     23.930      0.000      22.111      26.088\n",
       "AdultosAnalfa     -0.5817      0.150     -3.887      0.000      -0.877      -0.286\n",
       "Morte1ano         -0.2185      0.077     -2.853      0.005      -0.370      -0.067\n",
       "==============================================================================\n",
       "Omnibus:                        4.433   Durbin-Watson:                   1.827\n",
       "Prob(Omnibus):                  0.109   Jarque-Bera (JB):                4.140\n",
       "Skew:                          -0.382   Prob(JB):                        0.126\n",
       "Kurtosis:                       3.104   Cond. No.                         743.\n",
       "==============================================================================\n",
       "\n",
       "Warnings:\n",
       "[1] Standard Errors assume that the covariance matrix of the errors is correctly specified.\n",
       "\"\"\""
      ]
     },
     "execution_count": 21,
     "metadata": {},
     "output_type": "execute_result"
    }
   ],
   "source": [
    "model = sm.OLS(ytrain, Xtrain)\n",
    "fit = model.fit()\n",
    "fit.summary()"
   ]
  },
  {
   "cell_type": "markdown",
   "metadata": {},
   "source": [
    "Depending on the random_state that you set, this last summary can tell that \"Morte1ano\" is not significant. It happens because of the variation that can be adhered to the model when the data are splitted. In order to minimize the variation, k-fold cross validation can be used."
   ]
  },
  {
   "cell_type": "markdown",
   "metadata": {},
   "source": [
    "#### Interpretation"
   ]
  },
  {
   "cell_type": "markdown",
   "metadata": {},
   "source": [
    "As we know, the linear model is very interpretable. Looking at the summary above we can analyze the parameters estimates and then make some conclusions about the effect of the explanatory variables over the target variable. For our model, the interpretations were:\n",
    "\n",
    "* **const(intercept):** The average income of the cities of Paraíba would be 96.9 if all X=0;\n",
    "* **Adol2grau:** The increase of 1 adolescent in the high school, increases the average income in 0.73;\n",
    "* **AdultoSuperior:** The increase of 1 person in the university education, increases the average income in 24.09;\n",
    "* **AdultosAnalfa:** To each new illiterate adult considered, the average income decreases in 0.58;\n",
    "* **Morte1ano:** To each new child dead before 1 year old, the average income decreases in 0.22.\n",
    "\n",
    "An important thing to pay attention is the signs of the parameters estimates. in general, we expect certain variables to have an effect on the target target variable in a certain way. For example, if we are talking about the income of cities, we expect a city with a large number of people in university education to have larger income than a city with a small number of people in university education (considering a \"City income x People in university education\" model). In our model, all signs make sense."
   ]
  },
  {
   "cell_type": "markdown",
   "metadata": {},
   "source": [
    "### Residual Analysis"
   ]
  },
  {
   "cell_type": "markdown",
   "metadata": {},
   "source": [
    "Once we define our model, we are able to analize its residuals in order to verify part of the assumptions. Let's start the analysis investigating possible normality of the residuals:"
   ]
  },
  {
   "cell_type": "markdown",
   "metadata": {},
   "source": [
    "#### Normality"
   ]
  },
  {
   "cell_type": "markdown",
   "metadata": {},
   "source": [
    "There are several way to verify if the residuals of our model is normally distributed. Two of the most popular ways are through the Shapiro-Wilks hypotesis test and using the quantile-quantile plot. For the this model, the results for normality were:"
   ]
  },
  {
   "cell_type": "code",
   "execution_count": 22,
   "metadata": {},
   "outputs": [
    {
     "name": "stdout",
     "output_type": "stream",
     "text": [
      "The p-value for the Shapiro test applied to the residuals was:0.1221494972705841\n"
     ]
    }
   ],
   "source": [
    "#Shapiro-Wilks test\n",
    "from scipy.stats import shapiro\n",
    "statistic, pvalue = shapiro(fit.resid)\n",
    "\n",
    "print(\"The p-value for the Shapiro test applied to the residuals was:{}\".format(pvalue))"
   ]
  },
  {
   "cell_type": "markdown",
   "metadata": {},
   "source": [
    "Considering a significance level of 5%, we can not reject the null hypotesis of the Shapiro test, that is, the test says that we can consider the residuals normally distributed. To support this statement, let's take a look at the qq-plot of normality for these residuals:"
   ]
  },
  {
   "cell_type": "code",
   "execution_count": 23,
   "metadata": {},
   "outputs": [
    {
     "data": {
      "image/png": "[encoded data removed]",
      "text/plain": [
       "<Figure size 432x288 with 1 Axes>"
      ]
     },
     "metadata": {},
     "output_type": "display_data"
    }
   ],
   "source": [
    "from scipy.stats import probplot\n",
    "import pylab\n",
    "\n",
    "probplot(fit.resid, dist = \"norm\", plot = pylab)\n",
    "pylab.show()"
   ]
  },
  {
   "cell_type": "markdown",
   "metadata": {},
   "source": [
    "Note that for the most part, the residuals seems well fitted to line (except for the extremities). That is the indication to support the hypotesis test, thus we can consider the residuals normally distributed."
   ]
  },
  {
   "cell_type": "markdown",
   "metadata": {},
   "source": [
    "#### Homoscedasticity"
   ]
  },
  {
   "cell_type": "markdown",
   "metadata": {},
   "source": [
    "Another assumption of the linear model is the homoscedasticity of the residuals (i.e. constant variance). To verify that, we can also use both plot visualization or hypotesis tests:"
   ]
  },
  {
   "cell_type": "code",
   "execution_count": 24,
   "metadata": {},
   "outputs": [
    {
     "data": {
      "text/plain": [
       "[('statistic', 19.84998136405377),\n",
       " ('pvalue', 0.0005346288479601174),\n",
       " ('f value', 5.463296931229833),\n",
       " ('f p-value', 0.00037583453796868167)]"
      ]
     },
     "execution_count": 24,
     "metadata": {},
     "output_type": "execute_result"
    }
   ],
   "source": [
    "#Breusch-Pagan test\n",
    "from statsmodels.stats.api import het_breuschpagan\n",
    "from statsmodels.compat import lzip\n",
    "\n",
    "name = [\"statistic\", \"pvalue\", \"f value\", \"f p-value\"]\n",
    "test = het_breuschpagan(fit.resid, fit.model.exog)\n",
    "lzip(name, test)"
   ]
  },
  {
   "cell_type": "code",
   "execution_count": 25,
   "metadata": {},
   "outputs": [
    {
     "data": {
      "text/plain": [
       "[('F-statistic', 1.2994959183282642), ('p-value', 0.12384008577918788)]"
      ]
     },
     "execution_count": 25,
     "metadata": {},
     "output_type": "execute_result"
    }
   ],
   "source": [
    "#Goldfeld-Quandt test\n",
    "from statsmodels.stats.api import het_goldfeldquandt\n",
    "\n",
    "name = [\"F-statistic\", \"p-value\"]\n",
    "test = het_goldfeldquandt(fit.resid, fit.model.exog)\n",
    "lzip(name, test)"
   ]
  },
  {
   "cell_type": "markdown",
   "metadata": {},
   "source": [
    "The two tests gave us diffetent conclusions. According to the Breusch-Pagan test, we have evidence to reject the null hypotesis of homoscedasticity, but if we consider the Goldfeld-Quandt test, we do not have evidence to reject the homoscedasticity of the residues. This can happen often because of the (distinct) mathematical nature of those tests. Usually, people choose to use the Breusch-Pagan test more often. However, a good way to handle this situation is to consider the support of a graphical analysis and we can do that simply by plotting the residuals. If they are distributed symmetrically and randomly around zero, we can consider that the residuals have mean=0 and constant variance. Let's see:"
   ]
  },
  {
   "cell_type": "code",
   "execution_count": 26,
   "metadata": {},
   "outputs": [
    {
     "data": {
      "text/plain": [
       "<matplotlib.collections.LineCollection at 0x1864fc7d3c8>"
      ]
     },
     "execution_count": 26,
     "metadata": {},
     "output_type": "execute_result"
    },
    {
     "data": {
      "image/png": "[encoded data removed]",
      "text/plain": [
       "<Figure size 432x288 with 1 Axes>"
      ]
     },
     "metadata": {},
     "output_type": "display_data"
    }
   ],
   "source": [
    "fig = plt.figure()\n",
    "ax = plt.axes()\n",
    "ax.scatter(np.arange(0, fit.resid.shape[0],1), fit.resid)\n",
    "ax.set_title(\"Plot of Residuals by Index\")\n",
    "ax.set_xlabel(\"Index\")\n",
    "ax.set_ylabel(\"Residuals\")\n",
    "plt.hlines(0, 0, 180)"
   ]
  },
  {
   "cell_type": "markdown",
   "metadata": {},
   "source": [
    "Looking at the plot above, we do not see any pattern, and the observations seems to be relatively symetric around zero. So, although the Breusch-Pagan does not indicate homoscedasticity, the graphical analysis together with the Goldfeld-Quandt test indicate that is reasonable to consider homoscedasticity of the residuals."
   ]
  },
  {
   "cell_type": "markdown",
   "metadata": {},
   "source": [
    "#### Non-autocorrelation of the Errors"
   ]
  },
  {
   "cell_type": "markdown",
   "metadata": {},
   "source": [
    "To verify if the errors are non-corraleted, we can again look at the residues and use two of the most used tools to deal with this situation, the Durbin-Watson test and the graphical analysis of the Autocorrelation Function (ACF). "
   ]
  },
  {
   "cell_type": "code",
   "execution_count": 27,
   "metadata": {},
   "outputs": [
    {
     "data": {
      "text/plain": [
       "1.826941483318342"
      ]
     },
     "execution_count": 27,
     "metadata": {},
     "output_type": "execute_result"
    }
   ],
   "source": [
    "from statsmodels.stats.stattools import durbin_watson\n",
    "\n",
    "durbin_watson(fit.resid)"
   ]
  },
  {
   "cell_type": "code",
   "execution_count": 28,
   "metadata": {},
   "outputs": [
    {
     "data": {
      "image/png": "[encoded data removed]",
      "text/plain": [
       "<Figure size 432x288 with 1 Axes>"
      ]
     },
     "metadata": {},
     "output_type": "display_data"
    }
   ],
   "source": [
    "from statsmodels.graphics.tsaplots import plot_acf\n",
    "acf = plot_acf(fit.resid)"
   ]
  },
  {
   "cell_type": "markdown",
   "metadata": {},
   "source": [
    "The Durbin-Watson statistic is a number between 0 and 4. If it is close to 0, we have indication that there is positive autocorrelation in the residues, and if it is close to 4, the autocorrelation is negative. \n",
    "\n",
    "The result of the Durbin Watson statistic for our model was 1.83 (something close to 2). Based on that, we have an indication of non-autocorrelation in the residues.\n",
    "\n",
    "To confirm what was said by the Durbin-Watson statistic, we can look at the ACF plot. On the y-axis we got the correlation values (between -1 and 1) and, on the x-axis we got the residual autocorrelation indexes. In general, the autocorrelation exist if some point falls out of the bounds (the blue interval). However, we should analyze each situation.\n",
    "\n",
    "In our case, we got one obsevation out of the bounds (the first one is not considered because the autocorrelation between the \"zero\" residue with itself will always be 1), but the value of this point is something around -0.2, which is a relatively small value for autocorrelation. You can be strict and decide to consider that there is autocorrelation in the residues, however in practice, we have to be malleable in this kind of situation. So, for this case, considering the results of the Durbin-Watson statistic and the ACF plot, we conclud that there is no autocorrelation in the residues."
   ]
  },
  {
   "cell_type": "markdown",
   "metadata": {},
   "source": [
    "#### Predictions"
   ]
  },
  {
   "cell_type": "markdown",
   "metadata": {},
   "source": [
    "Once we checked for multicolinearity, normality, homoscedasticity and autocorrelation, we can use our model to make predictions for the test set that we defined before and then evaluete the precision of the model based on a couple metrics."
   ]
  },
  {
   "cell_type": "code",
   "execution_count": 40,
   "metadata": {},
   "outputs": [
    {
     "name": "stdout",
     "output_type": "stream",
     "text": [
      "     Observed   Predicted\n",
      "38     100.45   89.640044\n",
      "5       56.19   59.638275\n",
      "158     69.31   62.669768\n",
      "176    112.25   84.401925\n",
      "110     88.77   67.973917\n",
      "37      82.02   83.705262\n",
      "106    100.56   71.605275\n",
      "209    144.25  127.350338\n",
      "65      72.07   65.103196\n",
      "47      73.50   61.278272\n",
      "202     86.94   80.667467\n",
      "22      61.78   66.467795\n",
      "48      73.48   75.009902\n",
      "101    110.09  119.098573\n",
      "54      71.81   67.383038\n",
      "160     71.91   63.547883\n",
      "42      61.36   66.510367\n",
      "52      77.08   73.860057\n",
      "135     63.83   77.116143\n",
      "147     77.57   63.599170\n",
      "113     75.59   62.061133\n",
      "211     63.68   59.280331\n",
      "119     76.76   74.611666\n",
      "171     53.44   65.407872\n",
      "121    113.57   99.381466\n",
      "220     62.65   61.008806\n",
      "74      79.05   59.595620\n",
      "63      75.37   63.449299\n",
      "123     66.72   59.175737\n",
      "20      76.99   67.506589\n",
      "16      82.45   74.200744\n",
      "58      80.44   75.248416\n",
      "193     67.03   64.937921\n",
      "2       82.87   87.086752\n",
      "99      70.68   61.660643\n",
      "76     105.47  100.787266\n",
      "153     86.45   77.512295\n",
      "78      89.84   78.648503\n",
      "70      48.47   55.895130\n",
      "137     82.53   79.804080\n",
      "30      76.41   67.977216\n",
      "186     72.25   78.144355\n",
      "141     82.62   75.400282\n",
      "6       81.51   82.925880\n",
      "32      86.63   74.427447\n",
      "136     74.47   75.767940\n",
      "173     75.87   68.258006\n",
      "151     98.28   91.108820\n",
      "55     111.39  122.170386\n",
      "85      52.01   65.654210\n",
      "71      69.25  101.025888\n",
      "216     81.21   78.503210\n",
      "155     92.31   87.939362\n",
      "56      83.98   87.152343\n",
      "45     148.40  129.259560\n",
      "97      76.44   60.794326\n"
     ]
    }
   ],
   "source": [
    "ypred = fit.predict(Xtest)\n",
    "print(pd.concat([ytest.rename(\"Observed\"), ypred.rename(\"Predicted\")], axis = 1))"
   ]
  },
  {
   "cell_type": "code",
   "execution_count": 39,
   "metadata": {},
   "outputs": [
    {
     "name": "stdout",
     "output_type": "stream",
     "text": [
      "Root Mean Squared Error\n",
      "11.52478336235018\n",
      "------------------\n",
      "Mean Absolute Error\n",
      "9.26210679946725\n",
      "------------------\n"
     ]
    }
   ],
   "source": [
    "print(\"Root Mean Squared Error\")\n",
    "print(np.sqrt(mean_squared_error(ytest, ypred)))\n",
    "print(\"------------------\")\n",
    "print(\"Mean Absolute Error\")\n",
    "print(mean_absolute_error(ytest, ypred))\n",
    "print(\"------------------\")"
   ]
  },
  {
   "cell_type": "markdown",
   "metadata": {},
   "source": [
    "If we look at those results of observed and predicted values, we can see that some of the observations were pretty well predicted, but some of them were predicted in a relatively poor way and that resulted in values of RMSE and MAE of 11.52 and 9.26, respectively."
   ]
  },
  {
   "cell_type": "markdown",
   "metadata": {},
   "source": [
    "#### Linearity"
   ]
  },
  {
   "cell_type": "markdown",
   "metadata": {},
   "source": [
    "The last thing that we are going to check is linearity. To verify if the linear model is well specified to the data, we can use some hypotesis tests such as the Harvey-Collier test or the RESET test, however here we will only use the graphical analysis.\n",
    "\n",
    "In terms of linear regression, the perfect situation for a model is the one where the observed values are numerically equal to the predicted values. This would give us a perfect straight line on a scatter plot, so in general, the model is well specified if we can identify a \"linear dispersion\" on a scatter plot between the observed and predict values.\n",
    "\n",
    "Let's see how linear is our plot:"
   ]
  },
  {
   "cell_type": "code",
   "execution_count": 41,
   "metadata": {},
   "outputs": [
    {
     "data": {
      "text/plain": [
       "Text(0, 0.5, 'Observed Values')"
      ]
     },
     "execution_count": 41,
     "metadata": {},
     "output_type": "execute_result"
    },
    {
     "data": {
      "image/png": "[encoded data removed]",
      "text/plain": [
       "<Figure size 432x288 with 1 Axes>"
      ]
     },
     "metadata": {},
     "output_type": "display_data"
    }
   ],
   "source": [
    "fig = plt.figure()\n",
    "ax = plt.axes()\n",
    "\n",
    "ax.scatter(ypred.ravel(), ytest.ravel())\n",
    "ax.set_title(\"Observed x Predicted\")\n",
    "ax.set_xlabel(\"Predited Values\")\n",
    "ax.set_ylabel(\"Observed Values\")"
   ]
  },
  {
   "cell_type": "markdown",
   "metadata": {},
   "source": [
    "Just like we imagined, some of the observation are distant from an imaginary straight line because these ones were not so well fitted by the model. If we consider the dispersion in general, we can see that there is a relatively linear pattern on that, which tells us that the linear model is a good option for this dataset."
   ]
  }
 ],
 "metadata": {
  "kernelspec": {
   "display_name": "Python 3",
   "language": "python",
   "name": "python3"
  },
  "language_info": {
   "codemirror_mode": {
    "name": "ipython",
    "version": 3
   },
   "file_extension": ".py",
   "mimetype": "text/x-python",
   "name": "python",
   "nbconvert_exporter": "python",
   "pygments_lexer": "ipython3",
   "version": "3.7.4"
  }
 },
 "nbformat": 4,
 "nbformat_minor": 2
}
