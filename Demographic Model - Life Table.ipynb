{
 "cells": [
  {
   "cell_type": "markdown",
   "metadata": {},
   "source": [
    "# Life Table - A Model for the Brazilian Semiarid Region"
   ]
  },
  {
   "cell_type": "markdown",
   "metadata": {},
   "source": [
    "## What is a Life Table?"
   ]
  },
  {
   "cell_type": "markdown",
   "metadata": {},
   "source": [
    "The life table is a well-known model used in several occasions. This tool has been applied in areas such as demography, actuarial science and survival analysis to investigate the life expectation of people, machines etc.\n",
    "\n",
    "In demography, we consider two types of life table:\n",
    "* **Reduced life table:** The reduced life table gives results based on age groups, being a “longitudinal” type procedure, that is, there is a monitoring of the mortality experience of a cohort.\n",
    "\n",
    "* **Complete life table:** Unlike the reduced life table, the complete life table does not represent the mortality experience of a cohort, as it works considering a hypothetical cohort and assumes that it is subject throughout the lifetime to the specific mortality rates observed for a population during a particular period (NATIONAL CENTER FOR HEALTH STATISTICS, 1964).\n",
    "\n",
    "Our goal is to build a life table model using data of men and women from the brazilian Semiarid region (2015). For clear reasons, we are going to work with the reduced model."
   ]
  },
  {
   "cell_type": "markdown",
   "metadata": {},
   "source": [
    "## The Brazilian Semiarid Region"
   ]
  },
  {
   "cell_type": "markdown",
   "metadata": {},
   "source": [
    "The brazilian Semiarid region is formed by 1262 cities. The region was defined based on scientific criteria, that is, belongs to the Semiarid the cities with average annual rainfall equal or less than 800 mm; Thornthwaite Aridity Index equal or less than 0.50; Daily percentage of water deficit equal or less than 60%. You can check [SUDENE](https://www.gov.br/sudene/pt-br).\n",
    "\n",
    "Because it is mostly distributed in the Northeast, a historically less developed socio-economic area, the brazilian Semiarid region is marked by poverty and by factors derived from it, thus, its population in general is exposed to several vulnerabilities.\n",
    "\n",
    "The socio-economic problems have influence over the quality of the data that come from the brazilian Semiarid, so in order to investigate the life expectancy of this population, a lot of correction tools (Brass techinique, Ledermann technique etc) can be used to make this data more reliable. The data that we are going to use here were already corrected after the collection  on [DATASUS](http://www2.datasus.gov.br/DATASUS/index.php)."
   ]
  },
  {
   "cell_type": "markdown",
   "metadata": {},
   "source": [
    "## Building a Life Table for the Brazilian Semiarid"
   ]
  },
  {
   "cell_type": "markdown",
   "metadata": {},
   "source": [
    "The life table is formed by columns that represent variables obtained through functions. In Paes (2018), the procedure for calculating life expectancy by life table follows as:\n",
    "\n",
    "$x$ - Is the interval between two exact ages (x, x+n). Some of these groups are 0 to 1, 1-4 and 85 years old or more.\n",
    "\n",
    "${}_{n}q_{x}$ - The probability of dying between the exact ages $x$ e $x+n$. This column is the most important on the construction of the life table, since the other columns come directly from it. This column is calculated relating the number of deaths in an age group and the corresponding population at risk.\n",
    "\n",
    "So, we have:\n",
    "\n",
    "\n",
    "$\n",
    "{}_{n}q_{x} = \\frac{n\\times{}_{n}m_{x}}{1+n\\times(1-{}_{n}a_{x})\\times{}_{n}m_{x}}\n",
    "$\n",
    "\n",
    "Where,\n",
    "\n",
    "${}_{n}m_{x}$ = $\\frac{{}_{n}D_{x}}{{}_{n}P_{x}}$\n",
    "\n",
    "${}_{n}D_{x}$ = deaths in the age group ($x$, $x + n$);\n",
    "\n",
    "${}_{n}P_{x}$ = population in the age group ($x$, $x + n$);\n",
    "\n",
    "${}_{n}a_{x}$ = separation factor.\n",
    "\n",
    "$ {} _ {1} q_ {0} $ is the \"true\" {Infant Mortality Rate} (IMR), and its conventional calculation gives a good estimate of $ {} _ {n} q_ {x} $. On the other hand, for the open interval, $ {} _ {n} q_ {x} $, will always be equal to 1, since all who are alive at the beginning of the interval die during it.\n",
    "\n",
    "The separation factors for the 0-1 year and 1-4 year age groups were obtained based on the criteria of Coale and Demeny (1983) and adapted by Preston, Heuveline and Guillot (2001).\n",
    "\n",
    "${}_{n}p_{x}$ - Represents the probability of surviving between the exact ages $x$ e $x + n$. It is calculated by obtaining the complement of ${}_{n}q_{x}$. That is:\n",
    "\n",
    "$\n",
    "{}_{n}p_{x} = 1 - {}_{n}q_{x}\n",
    "$\n",
    "\n",
    "$l_x$ - Number of people alive or surviving to exact age x. It is the number of individuals who reached the exact age x alive, starting from an arbitrary initial number $l_0$ (100,000 births). From the root $l_0$, the subsequent values are obtained through the expression:\n",
    "\n",
    "$l_x$ = $l_{x-n}\\times $ ${}_{n}p_{x-n}$\n",
    "\n",
    "$ {} _ {n} d_ {x} $ - Number of deaths in the age range ($ x $, $ x + n $). Their values result from the multiplication of $ {} _ {n} q_ {x} $ by survivors of the same age and translate the number of deaths from the life table that occurred in the interval ($ x $, $ x + n $). This column can be obtained by:\n",
    "\n",
    "$\n",
    "{} _ {n} d_ {x} = {} _ {n} q_ {x}\\times l_x\n",
    "$\n",
    "\n",
    "${}_{n}L_{x}$ - Number of years lived by survivors of the initial group of individuals between the exact ages ($ x $, $ x + n $). Where each individual in this group who survives each year, in that interval, contributes to $ {} _ {n} L_ {x} $ for a full year, while those who die during that year contribute, on average (1- $ a_x $ ) of the period and not one year.\n",
    "Considering the interval of n years, the expression is given by:\n",
    "\n",
    "$\n",
    "{}_{n}L_{x} = n\\times l_{x+n} + {}_{n}d_{x}\\times (1-{}_{n}a_{x})\\times n \n",
    "$\n",
    "\n",
    "${}_{\\infty}L_{x} = \\frac{{}_{\\infty}d_{x}}{{}_{\\infty}O_{x}}\\times  {}_{\\infty}P_{x}$\n",
    "\n",
    "${}T_x$ - Total years lived beyond age $ x $. It is the number of years that survivors of exact age $ x $ are expected to live, from that age until when the initial group of individuals is completely extinguished. It represents the sum of the number of years lived in each age range starting with age x. This column can be obtained by:\n",
    "\n",
    "$\n",
    "{}T_x = {}_{n}L_{x} + {}T_{x+n}\n",
    "$\n",
    "\n",
    "The main purpose of $ {} T_x $ is to assist in the calculations that form the next column.\n",
    "\n",
    "$ e_x $ - Life expectancy at age $ x $. Corresponds to the average number of years of life expected by people at age $ x $. The values ​​in this column result from dividing the data in the $ T_x $ column by the data in the $ l_x $ column. That is:\n",
    "\n",
    "$\n",
    "e_x = \\frac{T_x}{l_x}\n",
    "$"
   ]
  },
  {
   "cell_type": "markdown",
   "metadata": {},
   "source": [
    "Now that we know how to use mathematical equations to obtain the life expectancy, let's see how we can work with it using Python. "
   ]
  },
  {
   "cell_type": "markdown",
   "metadata": {},
   "source": [
    "## Implementing the Tool"
   ]
  },
  {
   "cell_type": "markdown",
   "metadata": {},
   "source": [
    "As we already know, in the programming world there is a lot of possibilities to do something, here we are going to implement the life table for the population of the brazilian Semiarid by creating a class called \"life_table\". The class has two methods that work almost in the same way. The first method is called \"male\" and it builds a life table for the male population (considering the appropriate separation factors). The \"female\" method, of course, builds a life table for the female population by using their own separation factors. All that is required is a list of the population (of each sex) grouped by age, and also a list of the total number of deaths grouped by age (of each sex) caused by all causes.\n",
    "\n",
    "The class could be implemented using "pure" Python (lists and base functions), however we choose to use \"numpy\" and \"pandas\" to make it easier."
   ]
  },
  {
   "cell_type": "markdown",
   "metadata": {},
   "source": [
    "let's see:"
   ]
  },
  {
   "cell_type": "code",
   "execution_count": null,
   "outputs": [],
   "execution_count": 1,
   "metadata": {},
   "outputs": [],
   "source": [
    "#Importing the libraries\n",
    "import numpy as np\n",
    "import pandas as pd\n",
    "import matplotlib.pyplot as plt\n",
    "import seaborn as sns; sns.set()"
   ]
  },
  {
   "cell_type": "code",
   "execution_count": 2,
   "execution_count": null,
   "outputs": [],
   "source": [
    "class life_table:\n",
    "    \"\"\"First thing is the constructor,\n",
    "       the Px and Dx stand for the \n",
    "       passed list of population and\n",
    "       deaths, grouped by age.\"\"\"\n",
    "\n",
    "    def __init__(self, Px, Dx):\n",
    "        self.Px = Px\n",
    "        self.Dx = Dx\n",
    "    \n",
    "    def male(self):\n",
    "        \"\"\"The age object is a pandas series of characters, indicating\n",
    "           the age group of interest\"\"\"\n",
    "        \n",
    "        age = pd.Series(data = [\"0\", \"1-4\", \"5-9\", \"10-14\", \"15-19\",\n",
    "                               \"20-24\", \"25-29\", \"30-34\", \"35-39\", \"40-44\",\n",
    "                               \"45-49\", \"50-54\", \"55-59\", \"60-64\", \"65-69\",\n",
    "                               \"70-74\", \"75-79\", \"80+\"])\n",
    "        \n",
    "        \"\"\"Px and Dx are passed by the user, then 'self' makes it usable\n",
    "           by the life_table class\"\"\" \n",
    "        Px = pd.Series(data = self.Px)\n",
    "        Dx = pd.Series(data = self.Dx)\n",
    "        \n",
    "        \"\"\"mx is obtained dividing two series, Dx by Px.\"\"\"\n",
    "        mx = (pd.Series(self.Dx)/pd.Series(self.Px)).round(7)\n",
    "\n",
    "        \"\"\"The first two elements of qx are calculated considering specific\n",
    "           separation factors because they are related to children mortality, so\n",
    "           to obtain them, the calculation is normally done for all the elements\n",
    "           and then the first two are replaced by the specific calculations. The\n",
    "           qx value for the last group age must be equal to 1, so it is also replaced.\"\"\"\n",
    "        qx = pd.Series(data = 5*mx/(1 + 5*(1-0.5)*mx)) \n",
    "        qx[[0, 1, 17]] = [1*mx[0]/(1+1*(1-(0.045+2.684*mx[0])*mx[0])),\n",
    "                          4*mx[1]/(1+4*(1-(1.651-2.816*mx[0]))*mx[1]), \n",
    "                          1]\n",
    "        qx.round(7)\n",
    "        \n",
    "        \"\"\"For the life table, the first value of lx is arbitrary and usually equal\n",
    "           to 100,000. So the lx list will start with a single element(100000) and then,\n",
    "           the for loop will append the other ones, applying the lx formula of calculation.\"\"\"\n",
    "        lx = [100000]\n",
    "        for i in np.arange(0, 17):\n",
    "            lx.append(lx[i]*(1-qx[i]))\n",
    "        lx = pd.Series(lx).round(0)\n",
    "\n",
    "        \"\"\"dx is obtained by the product of the series qx and lx.\"\"\"\n",
    "        dx = (qx*lx).round(0)\n",
    "\n",
    "        \"\"\"Lx also works with the idea of specific values of separtion factors for children\n",
    "           age, so Lx is first difined as a list of two elements, then, a for loop will append\n",
    "           the next ones, applying the  Lx calculation formula, except for the last one, which\n",
    "           is a division between the last element of dx by the last element of mx.\"\"\"\n",
    "        Lx = [(1*lx[1]+dx[0]*(1-(0.045+2.684*mx[0]))*1),\n",
    "              (4*lx[2]+dx[1]*(1-(1.651-2.816*mx[0]))*4)]\n",
    "        for i in np.arange(2, 17):\n",
    "            Lx.append(5*lx[i+1]+dx[i]*(1-0.5)*5)  \n",
    "\n",
    "        Lx.append(dx[17]/mx[17])\n",
    "        Lx = pd.Series(Lx).round(0)\n",
    "        \n",
    "        \"\"\"Tx is obtained from the last element to the first. The last element is equal to\n",
    "           the last element of Lx. A \"backwards for-loop\" is used to insert the other elements\n",
    "           to the list and then it is turned to a series.\"\"\"\n",
    "        Tx = [Lx[17]]\n",
    "        for i in np.arange(16, -1, -1):\n",
    "            Tx.insert(0, Lx[i]+Tx[0])\n",
    "\n",
    "        Tx = pd.Series(Tx).round(2)\n",
    "        \n",
    "        \"\"\"ex is obtained by the quotient of the Tx and lx.\"\"\"\n",
    "        ex = (Tx/lx).round(2)\n",
    "\n",
    "        l_table = pd.concat([age, Px, Dx, mx, qx, lx, dx, Lx, Tx, ex], axis =1)\n",
    "        l_table.columns = [\"Age\", \"Px\", \"Dx\", \"mx\", \"qx\", \"lx\", \"dx\", \"Lx\", \"Tx\", \"ex\"]\n",
    "\n",
    "        return(l_table)\n",
    "    \n",
    "    \"\"\"The female method is identical to the male method, except for the separation factors\n",
    "       used on qx and lx.\"\"\"\n",
    "    \n",
    "    def female(self):\n",
    "        age = pd.Series(data = [\"0\", \"1-4\", \"5-9\", \"10-14\", \"15-19\",\n",
    "                               \"20-24\", \"25-29\", \"30-34\", \"35-39\", \"40-44\",\n",
    "                               \"45-49\", \"50-54\", \"55-59\", \"60-64\", \"65-69\",\n",
    "                               \"70-74\", \"75-79\", \"80+\"])\n",
    "        \n",
    "        Px = pd.Series(data = self.Px)\n",
    "\n",
    "        Dx = pd.Series(data = self.Dx)\n",
    "\n",
    "        mx = (pd.Series(self.Dx)/pd.Series(self.Px)).round(7)\n",
    "\n",
    "        qx = pd.Series(data = 5*mx/(1 + 5*(1-0.5)*mx)) \n",
    "        qx[[0, 1, 17]] = [1*mx[0]/(1+1*(1-(0.053+2.8*mx[0])*mx[0])), \n",
    "                          4*mx[1]/(1+4*(1-(1.522-1.518*mx[0]))*mx[1]), \n",
    "                          1]\n",
    "        qx.round(7)\n",
    "\n",
    "        lx = [100000]\n",
    "        for i in np.arange(0, 17):\n",
    "            lx.append(lx[i]*(1-qx[i]))\n",
    "        lx = pd.Series(lx).round(0)\n",
    "\n",
    "        dx = (qx*lx).round(0)\n",
    "\n",
    "        Lx = [(1*lx[1]+dx[0]*(1-(0.053+2.8*mx[0]))*1),\n",
    "              (4*lx[2]+dx[1]*(1-(1.522-1.518*mx[0]))*4)]\n",
    "        for i in np.arange(2, 17):\n",
    "            Lx.append(5*lx[i+1]+dx[i]*(1-0.5)*5)  \n",
    "\n",
    "        Lx.append(dx[17]/mx[17])\n",
    "        Lx = pd.Series(Lx).round(0)\n",
    "        \n",
    "\n",
    "        Tx = [Lx[17]]\n",
    "        for i in np.arange(16, -1, -1):\n",
    "            Tx.insert(0, Lx[i]+Tx[0])\n",
    "\n",
    "        Tx = pd.Series(Tx).round(2)\n",
    "\n",
    "        ex = (Tx/lx).round(2)\n",
    "\n",
    "        l_table = pd.concat([age, Px, Dx, mx, qx, lx, dx, Lx, Tx, ex], axis =1)\n",
    "        l_table.columns = [\"Age\", \"Px\", \"Dx\", \"mx\", \"qx\", \"lx\", \"dx\", \"Lx\", \"Tx\", \"ex\"]\n",
    "\n",
    "        return(l_table)\n",
    "    \n",
    "            \n",
    "        "
   ]
  },
  {
   "cell_type": "markdown",
   "metadata": {},
   "source": [
    "So now, let's see if everything is working fine. First, we are going to call the \"male\" method from the created class, passing two lists as arguments, the number of male people in each age group and the number of death of males in each group age:"
   ]
  },
  {
   "cell_type": "code",
   "execution_count": 3,
   "execution_count": null,
   "outputs": [],
   "metadata": {},
   "outputs": [],
   "source": [
    "#Men\n",
    "Px = [206794, 855777, 1184769, 1256287, 1195861, 1141950,\n",
    "      1116320, 1126239, 966892, 812540, 738130, 637171,\n",
    "      491845, 402060, 334415, 244032, 168545, 180347]\n",
    "\n",
    "Dx = [5716, 714, 438, 696, 3280, 4239, 4298,\n",
    "      4502, 4695, 4859, 5687, 6315, 6821, 7747,\n",
    "      9043, 10158, 11120, 30067]"
   ]
  },
  {
   "cell_type": "code",
   "execution_count": 4,
   "execution_count": null,
   "outputs": [],
   "metadata": {},
   "outputs": [
    {
     "name": "stdout",
     "output_type": "stream",
     "text": [
      "      Age       Px     Dx        mx        qx        lx       dx        Lx  \\\n",
      "0       0   206794   5716  0.027641  0.013843  100000.0   1384.0   99835.0   \n",
      "1     1-4   855777    714  0.000834  0.003344   98616.0    330.0  392387.0   \n",
      "2     5-9  1184769    438  0.000370  0.001847   98286.0    182.0  490975.0   \n",
      "3   10-14  1256287    696  0.000554  0.002766   98104.0    271.0  489842.0   \n",
      "4   15-19  1195861   3280  0.002743  0.013621   97833.0   1333.0  485838.0   \n",
      "5   20-24  1141950   4239  0.003712  0.018390   96501.0   1775.0  478068.0   \n",
      "6   25-29  1116320   4298  0.003850  0.019067   94726.0   1806.0  469115.0   \n",
      "7   30-34  1126239   4502  0.003997  0.019789   92920.0   1839.0  460002.0   \n",
      "8   35-39   966892   4695  0.004856  0.023988   91081.0   2185.0  449942.0   \n",
      "9   40-44   812540   4859  0.005980  0.029460   88896.0   2619.0  437932.0   \n",
      "10  45-49   738130   5687  0.007705  0.037795   86277.0   3261.0  423232.0   \n",
      "11  50-54   637171   6315  0.009911  0.048357   83016.0   4014.0  405045.0   \n",
      "12  55-59   491845   6821  0.013868  0.067017   79002.0   5295.0  381772.0   \n",
      "13  60-64   402060   7747  0.019268  0.091914   73707.0   6775.0  351602.0   \n",
      "14  65-69   334415   9043  0.027041  0.126645   66933.0   8477.0  313472.0   \n",
      "15  70-74   244032  10158  0.041626  0.188511   58456.0  11020.0  264730.0   \n",
      "16  75-79   168545  11120  0.065976  0.283175   47436.0  13433.0  203602.0   \n",
      "17    80+   180347  30067  0.166717  1.000000   34004.0  34004.0  203962.0   \n",
      "\n",
      "           Tx     ex  \n",
      "0   6801353.0  68.01  \n",
      "1   6701518.0  67.96  \n",
      "2   6309131.0  64.19  \n",
      "3   5818156.0  59.31  \n",
      "4   5328314.0  54.46  \n",
      "5   4842476.0  50.18  \n",
      "6   4364408.0  46.07  \n",
      "7   3895293.0  41.92  \n",
      "8   3435291.0  37.72  \n",
      "9   2985349.0  33.58  \n",
      "10  2547417.0  29.53  \n",
      "11  2124185.0  25.59  \n",
      "12  1719140.0  21.76  \n",
      "13  1337368.0  18.14  \n",
      "14   985766.0  14.73  \n",
      "15   672294.0  11.50  \n",
      "16   407564.0   8.59  \n",
      "17   203962.0   6.00  \n"
     ]
    }
   ],
   "source": [
    "#Creating an object of the class 'life_table' and calling the 'male' method\n",
    "m_obj = life_table(Px, Dx)\n",
    "male_LT = m_obj.male()\n",
    "print(male_LT)"
   ]
  },
  {
   "cell_type": "markdown",
   "metadata": {},
   "source": [
    "We can see from the above life table that the life expectancy of the brazilian Semiarid males at birth was equal to 68.01 years in 2015. The table also shows that a man of that region with 80 years old is expected to have, in average, more 6 years of life. "
   ]
  },
  {
   "cell_type": "markdown",
   "metadata": {},
   "source": [
    "Let's check the women situation:"
   ]
  },
  {
   "cell_type": "code",
   "execution_count": 5,
   "execution_count": null,
   "outputs": [],
   "metadata": {},
   "outputs": [],
   "source": [
    "#Women\n",
    "Px = [197648, 812977, 1131203, 1206788, 1153878, 1127298,\n",
    "      1118420, 1120222, 963089, 832865, 763153, 663410,\n",
    "      538781, 448831, 384677, 299655, 225451, 264135]\n",
    "\n",
    "Dx = [4423, 617,353,428,802,878,1063,1432,\n",
    "     1777,2167,2988,3617,4427,5560,7125,\n",
    "     8923,11669,38470]"
   ]
  },
  {
   "cell_type": "code",
   "execution_count": null,
   "outputs": [],
   "execution_count": 6,
   "metadata": {},
   "outputs": [
    {
     "name": "stdout",
     "output_type": "stream",
     "text": [
      "      Age       Px     Dx        mx        qx        lx       dx        Lx  \\\n",
      "0       0   197648   4423  0.022378  0.011204  100000.0   1120.0   99870.0   \n",
      "1     1-4   812977    617  0.000759  0.003040   98880.0    301.0  393728.0   \n",
      "2     5-9  1131203    353  0.000312  0.001559   98579.0    154.0  492510.0   \n",
      "3   10-14  1206788    428  0.000355  0.001772   98425.0    174.0  491690.0   \n",
      "4   15-19  1153878    802  0.000695  0.003469   98251.0    341.0  490402.0   \n",
      "5   20-24  1127298    878  0.000779  0.003887   97910.0    381.0  488602.0   \n",
      "6   25-29  1118420   1063  0.000950  0.004741   97530.0    462.0  486490.0   \n",
      "7   30-34  1120222   1432  0.001278  0.006371   97067.0    618.0  483790.0   \n",
      "8   35-39   963089   1777  0.001845  0.009183   96449.0    886.0  480030.0   \n",
      "9   40-44   832865   2167  0.002602  0.012925   95563.0   1235.0  474728.0   \n",
      "10  45-49   763153   2988  0.003915  0.019387   94328.0   1829.0  467068.0   \n",
      "11  50-54   663410   3617  0.005452  0.026894   92499.0   2488.0  456275.0   \n",
      "12  55-59   538781   4427  0.008217  0.040257   90011.0   3624.0  441000.0   \n",
      "13  60-64   448831   5560  0.012388  0.060078   86388.0   5190.0  418965.0   \n",
      "14  65-69   384677   7125  0.018522  0.088511   81198.0   7187.0  388022.0   \n",
      "15  70-74   299655   8923  0.029778  0.138572   74011.0  10256.0  344415.0   \n",
      "16  75-79   225451  11669  0.051758  0.229142   63755.0  14609.0  282252.0   \n",
      "17    80+   264135  38470  0.145645  1.000000   49146.0  49146.0  337436.0   \n",
      "\n",
      "           Tx     ex  \n",
      "0   7517273.0  75.17  \n",
      "1   7417403.0  75.01  \n",
      "2   7023675.0  71.25  \n",
      "3   6531165.0  66.36  \n",
      "4   6039475.0  61.47  \n",
      "5   5549073.0  56.68  \n",
      "6   5060471.0  51.89  \n",
      "7   4573981.0  47.12  \n",
      "8   4090191.0  42.41  \n",
      "9   3610161.0  37.78  \n",
      "10  3135433.0  33.24  \n",
      "11  2668365.0  28.85  \n",
      "12  2212090.0  24.58  \n",
      "13  1771090.0  20.50  \n",
      "14  1352125.0  16.65  \n",
      "15   964103.0  13.03  \n",
      "16   619688.0   9.72  \n",
      "17   337436.0   6.87  \n"
     ]
    }
   ],
   "source": [
    "f_obj = life_table(Px, Dx)\n",
    "female_LT = f_obj.female()\n",
    "print(female_LT)"
   ]
  },
  {
   "cell_type": "markdown",
   "metadata": {},
   "source": [
    "The results show that the life expectancy of the brazilian Semiarid females was 75.17 at birth in 2015. It is around 7.16 years more than men, an expected result in certain way, since men are more exposed to several death factors such as drugs, alcohol, smoking, urban violence and traffic accidents."
   ]
  },
  {
   "cell_type": "markdown",
   "metadata": {},
   "source": [
    "We can visualize the differences better looking at the following plot:"
   ]
  },
  {
   "cell_type": "code",
   "execution_count": null,
   "outputs": [],
   "execution_count": 8,
   "metadata": {},
   "outputs": [
    {
     "data": {
      "text/plain": [
       "<matplotlib.legend.Legend at 0x226e691fa48>"
      ]
     },
     "execution_count": 8,
     "metadata": {},
     "output_type": "execute_result"
    },
    {
     "data": {
      "image/png": "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\n",
      "text/plain": [
       "<Figure size 720x576 with 1 Axes>"
      ]
     },
     "metadata": {
      "needs_background": "light"
     },
     "output_type": "display_data"
    }
   ],
   "source": [
    "fig, ax = plt.subplots(1,1, figsize = (10,8))\n",
    "\n",
    "ax.xaxis.set_major_locator(plt.MaxNLocator(8))\n",
    "ax.plot(male_LT[\"Age\"], male_LT[\"ex\"])\n",
    "ax.plot(female_LT[\"ex\"])\n",
    "ax.set_title(\"Male Life Expectancy vs Female Life Expectancy\", fontsize = 15)\n",
    "ax.set_xlabel(\"Age Group\", fontsize = 15)\n",
    "ax.set_ylabel(\"Life Expectancy\", fontsize = 15)\n",
    "ax.legend([\"Male\", \"Female\"])"
   ]
  },
  {
   "cell_type": "markdown",
   "metadata": {},
   "source": [
    "The plot clearly shows that women's life expectancy is higher than men's in all age groups, with both coming closer to each other as age advance. Another useful information that we can take from the life tables is the probability of dying in certain age group (qx), let's take a look at that:"
   ]
  },
  {
   "cell_type": "code",
   "execution_count": null,
   "outputs": [],
   "execution_count": 10,
   "metadata": {},
   "outputs": [
    {
     "data": {
      "text/plain": [
       "<matplotlib.legend.Legend at 0x226e67dd6c8>"
      ]
     },
     "execution_count": 10,
     "metadata": {},
     "output_type": "execute_result"
    },
    {
     "data": {
      "image/png": "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\n",
      "text/plain": [
       "<Figure size 720x576 with 1 Axes>"
      ]
     },
     "metadata": {
      "needs_background": "light"
     },
     "output_type": "display_data"
    }
   ],
   "source": [
    "fig, ax = plt.subplots(1,1, figsize = (10,8))\n",
    "\n",
    "ax.xaxis.set_major_locator(plt.MaxNLocator(8))\n",
    "ax.plot(male_LT[\"Age\"], male_LT[\"qx\"])\n",
    "ax.plot(female_LT[\"qx\"])\n",
    "ax.set_title(\"Probability of Dying - Male vs Female\", fontsize = 15)\n",
    "ax.set_xlabel(\"Age Group\", fontsize = 15)\n",
    "ax.set_ylabel(\"Probability of Dying\", fontsize = 15)\n",
    "ax.legend([\"Male\", \"Female\"])"
   ]
  },
  {
   "cell_type": "markdown",
   "metadata": {},
   "source": [
    "At birth, the probability of dying of both sex is really low, with men's slightly overcoming women's. For the middle ages, as expected, the probability of dying of men clearly higher, however the probabilities for both sex are pratically identical for people at 80 years old or more."
   ]
  },
  {
   "cell_type": "markdown",
   "metadata": {},
   "source": [
    "## Some comments and conclusions"
   ]
  },
  {
   "cell_type": "markdown",
   "metadata": {},
   "source": [
    "There are several models of life table, all based on different mathematical and demographic assumptions. All the options should be used carefully, considering the characteristics of each population. It is not reasonable to apply on an undeveloped population a life table that was designed to a developed population. Some of the most popular models are defined as United Nation models or Coale-Demeny models. The one used on this demonstration is a model designed for brazilian poor regions, based on the work of Paes(2018).\n",
    "\n",
    "From this investigation, we can conclude that people from the brazilian Semiarid region had life expectancy below the national average in 2015. Also we can think of men as the main target of public politics, since they had around 7 years of life less than women. It tells us that discussions and project about traffic accident, control of criminality and the evils of smoking can be really helpfull to the population of that region."
   ]
  }
 ],
 "metadata": {
  "kernelspec": {
   "display_name": "Python 3",
   "language": "python",
   "name": "python3"
  },
  "language_info": {
   "codemirror_mode": {
    "name": "ipython",
    "version": 3
   },
   "file_extension": ".py",
   "mimetype": "text/x-python",
   "name": "python",
   "nbconvert_exporter": "python",
   "pygments_lexer": "ipython3",
   "version": "3.7.4"
  }
 },
 "nbformat": 4,
 "nbformat_minor": 2
}
