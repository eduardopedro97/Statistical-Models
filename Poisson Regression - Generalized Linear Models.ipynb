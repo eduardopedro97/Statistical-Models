{
 "cells": [
  {
   "cell_type": "markdown",
   "metadata": {},
   "source": [
    "## Goal and Description"
   ]
  },
  {
   "cell_type": "markdown",
   "metadata": {},
   "source": [
    "Here, our goal is to show how you can use the Python library Statsmodels to fit a generalized linear model. For this purpose, we are going to use the turbines dataset, which is an 11 observations by 3 variables dataframe. The variables are:\n",
    "\n",
    "* **Hours: The number of hours the turbine was run;**\n",
    "* **Turbines: The number of turbines run for the given amount of hours;**\n",
    "* **Fissures: The number of turbines wheels with fissures.**\n",
    "\n",
    "We want to explain the number of turbines wheels with fissures using the number of hours the turbine was run and the number or turbines run for the given amount of hours. That is, Fissures = b0 + b1(Hours) + b2(Turbines)."
   ]
  },
  {
   "cell_type": "markdown",
   "metadata": {},
   "source": [
    "## Settings and Basic Informations"
   ]
  },
  {
   "cell_type": "code",
   "execution_count": 1,
   "metadata": {},
   "outputs": [],
   "source": [
    "#Imports\n",
    "import numpy as np\n",
    "import pandas as pd\n",
    "import matplotlib.pyplot as plt\n",
    "import seaborn as sns; sns.set()\n",
    "import statsmodels.api as sm\n",
    "import statsmodels.formula.api as smf\n",
    "\n",
    "%matplotlib inline"
   ]
  },
  {
   "cell_type": "code",
   "execution_count": 2,
   "metadata": {},
   "outputs": [],
   "source": [
    "#Defining the default figure size for the notebook\n",
    "plt.rcParams['figure.figsize'] = [12, 6]"
   ]
  },
  {
   "cell_type": "code",
   "execution_count": 3,
   "metadata": {},
   "outputs": [],
   "source": [
    "#Importing the dataset\n",
    "turbines = pd.read_table(\"C:/Users/Eduardo/Documents/Acadêmicos/Bases de Dados/turbines.dat\", \n",
    "                         skipinitialspace = True, sep = ' ')"
   ]
  },
  {
   "cell_type": "code",
   "execution_count": 4,
   "metadata": {},
   "outputs": [
    {
     "data": {
      "text/plain": [
       "(11, 3)"
      ]
     },
     "execution_count": 4,
     "metadata": {},
     "output_type": "execute_result"
    }
   ],
   "source": [
    "#The dimensions of the dataset. 11 observations, 3 variables.\n",
    "turbines.shape"
   ]
  },
  {
   "cell_type": "code",
   "execution_count": 5,
   "metadata": {},
   "outputs": [
    {
     "data": {
      "text/html": [
       "<div>\n",
       "<style scoped>\n",
       "    .dataframe tbody tr th:only-of-type {\n",
       "        vertical-align: middle;\n",
       "    }\n",
       "\n",
       "    .dataframe tbody tr th {\n",
       "        vertical-align: top;\n",
       "    }\n",
       "\n",
       "    .dataframe thead th {\n",
       "        text-align: right;\n",
       "    }\n",
       "</style>\n",
       "<table border=\"1\" class=\"dataframe\">\n",
       "  <thead>\n",
       "    <tr style=\"text-align: right;\">\n",
       "      <th></th>\n",
       "      <th>Hours</th>\n",
       "      <th>Turbines</th>\n",
       "      <th>Fissures</th>\n",
       "    </tr>\n",
       "  </thead>\n",
       "  <tbody>\n",
       "    <tr>\n",
       "      <td>0</td>\n",
       "      <td>400</td>\n",
       "      <td>39</td>\n",
       "      <td>0</td>\n",
       "    </tr>\n",
       "    <tr>\n",
       "      <td>1</td>\n",
       "      <td>1000</td>\n",
       "      <td>53</td>\n",
       "      <td>4</td>\n",
       "    </tr>\n",
       "    <tr>\n",
       "      <td>2</td>\n",
       "      <td>1400</td>\n",
       "      <td>33</td>\n",
       "      <td>2</td>\n",
       "    </tr>\n",
       "    <tr>\n",
       "      <td>3</td>\n",
       "      <td>1800</td>\n",
       "      <td>73</td>\n",
       "      <td>7</td>\n",
       "    </tr>\n",
       "    <tr>\n",
       "      <td>4</td>\n",
       "      <td>2200</td>\n",
       "      <td>30</td>\n",
       "      <td>5</td>\n",
       "    </tr>\n",
       "  </tbody>\n",
       "</table>\n",
       "</div>"
      ],
      "text/plain": [
       "   Hours  Turbines  Fissures\n",
       "0    400        39         0\n",
       "1   1000        53         4\n",
       "2   1400        33         2\n",
       "3   1800        73         7\n",
       "4   2200        30         5"
      ]
     },
     "execution_count": 5,
     "metadata": {},
     "output_type": "execute_result"
    }
   ],
   "source": [
    "#The first 5 observations\n",
    "turbines.head()"
   ]
  },
  {
   "cell_type": "code",
   "execution_count": 6,
   "metadata": {},
   "outputs": [
    {
     "data": {
      "text/plain": [
       "Hours       0\n",
       "Turbines    0\n",
       "Fissures    0\n",
       "dtype: int64"
      ]
     },
     "execution_count": 6,
     "metadata": {},
     "output_type": "execute_result"
    }
   ],
   "source": [
    "#Checking for null values\n",
    "turbines.isnull().sum()"
   ]
  },
  {
   "cell_type": "markdown",
   "metadata": {},
   "source": [
    "## Simple Data Exploration"
   ]
  },
  {
   "cell_type": "markdown",
   "metadata": {},
   "source": [
    "To get some insights about the data we can call for the describe() method. With it, we can take a look at some summary statistics:"
   ]
  },
  {
   "cell_type": "code",
   "execution_count": 7,
   "metadata": {},
   "outputs": [
    {
     "data": {
      "text/html": [
       "<div>\n",
       "<style scoped>\n",
       "    .dataframe tbody tr th:only-of-type {\n",
       "        vertical-align: middle;\n",
       "    }\n",
       "\n",
       "    .dataframe tbody tr th {\n",
       "        vertical-align: top;\n",
       "    }\n",
       "\n",
       "    .dataframe thead th {\n",
       "        text-align: right;\n",
       "    }\n",
       "</style>\n",
       "<table border=\"1\" class=\"dataframe\">\n",
       "  <thead>\n",
       "    <tr style=\"text-align: right;\">\n",
       "      <th></th>\n",
       "      <th>Hours</th>\n",
       "      <th>Turbines</th>\n",
       "      <th>Fissures</th>\n",
       "    </tr>\n",
       "  </thead>\n",
       "  <tbody>\n",
       "    <tr>\n",
       "      <td>count</td>\n",
       "      <td>11.000000</td>\n",
       "      <td>11.000000</td>\n",
       "      <td>11.000000</td>\n",
       "    </tr>\n",
       "    <tr>\n",
       "      <td>mean</td>\n",
       "      <td>2581.818182</td>\n",
       "      <td>39.272727</td>\n",
       "      <td>9.636364</td>\n",
       "    </tr>\n",
       "    <tr>\n",
       "      <td>std</td>\n",
       "      <td>1357.805716</td>\n",
       "      <td>14.792504</td>\n",
       "      <td>7.978380</td>\n",
       "    </tr>\n",
       "    <tr>\n",
       "      <td>min</td>\n",
       "      <td>400.000000</td>\n",
       "      <td>13.000000</td>\n",
       "      <td>0.000000</td>\n",
       "    </tr>\n",
       "    <tr>\n",
       "      <td>25%</td>\n",
       "      <td>1600.000000</td>\n",
       "      <td>33.500000</td>\n",
       "      <td>4.500000</td>\n",
       "    </tr>\n",
       "    <tr>\n",
       "      <td>50%</td>\n",
       "      <td>2600.000000</td>\n",
       "      <td>39.000000</td>\n",
       "      <td>7.000000</td>\n",
       "    </tr>\n",
       "    <tr>\n",
       "      <td>75%</td>\n",
       "      <td>3600.000000</td>\n",
       "      <td>41.000000</td>\n",
       "      <td>15.000000</td>\n",
       "    </tr>\n",
       "    <tr>\n",
       "      <td>max</td>\n",
       "      <td>4600.000000</td>\n",
       "      <td>73.000000</td>\n",
       "      <td>22.000000</td>\n",
       "    </tr>\n",
       "  </tbody>\n",
       "</table>\n",
       "</div>"
      ],
      "text/plain": [
       "             Hours   Turbines   Fissures\n",
       "count    11.000000  11.000000  11.000000\n",
       "mean   2581.818182  39.272727   9.636364\n",
       "std    1357.805716  14.792504   7.978380\n",
       "min     400.000000  13.000000   0.000000\n",
       "25%    1600.000000  33.500000   4.500000\n",
       "50%    2600.000000  39.000000   7.000000\n",
       "75%    3600.000000  41.000000  15.000000\n",
       "max    4600.000000  73.000000  22.000000"
      ]
     },
     "execution_count": 7,
     "metadata": {},
     "output_type": "execute_result"
    }
   ],
   "source": [
    "turbines.describe()"
   ]
  },
  {
   "cell_type": "markdown",
   "metadata": {},
   "source": [
    "Based on the summary table above, we can draw some conclusions:\n",
    "\n",
    "* **The averages of Hours, Turbines and Fissures were 2582, 39.3 and 9.64, respectively;**\n",
    "* **The minumum number of fissures was 0 and the maximum was 22;**\n",
    "* **All the variables have relatively high standard deviations;**\n",
    "* **Above 75% of the observations, every turbine wheel has 15 or more fissures.**\n"
   ]
  },
  {
   "cell_type": "markdown",
   "metadata": {},
   "source": [
    "If we are dealing with linear models, we have to check linear correlations. For this case, the results are:"
   ]
  },
  {
   "cell_type": "code",
   "execution_count": 8,
   "metadata": {},
   "outputs": [
    {
     "data": {
      "text/plain": [
       "<matplotlib.axes._subplots.AxesSubplot at 0x292ec2045c8>"
      ]
     },
     "execution_count": 8,
     "metadata": {},
     "output_type": "execute_result"
    },
    {
     "data": {
      "image/png": "[encoded data removed]",
      "text/plain": [
       "<Figure size 864x432 with 2 Axes>"
      ]
     },
     "metadata": {
      "needs_background": "light"
     },
     "output_type": "display_data"
    }
   ],
   "source": [
    "corr = turbines.corr()\n",
    "sns.heatmap(corr, xticklabels = corr.columns, yticklabels = corr.columns, cmap = 'RdBu', annot = True)"
   ]
  },
  {
   "cell_type": "markdown",
   "metadata": {},
   "source": [
    "As we expected, there is a important relation between 'Hours' and 'Fissures'. It is quite reasonable to accept that the turbines wheels will wear out more or less, according to their usage time."
   ]
  },
  {
   "cell_type": "markdown",
   "metadata": {},
   "source": [
    "There are several linear generalized models, each one must be applied considering the nature of your response variable. Some models are applied for continuos, some fo discrete etc. To identify which model to apply in each situation, you have to know the peculiarities of each model and data.\n",
    "\n",
    "First of all, let's take a look at the histogram of our response variable 'Fissures':"
   ]
  },
  {
   "cell_type": "code",
   "execution_count": 9,
   "metadata": {},
   "outputs": [
    {
     "data": {
      "text/plain": [
       "<matplotlib.axes._subplots.AxesSubplot at 0x292ec4db288>"
      ]
     },
     "execution_count": 9,
     "metadata": {},
     "output_type": "execute_result"
    },
    {
     "data": {
      "image/png": "[encoded data removed]",
      "text/plain": [
       "<Figure size 864x432 with 1 Axes>"
      ]
     },
     "metadata": {
      "needs_background": "light"
     },
     "output_type": "display_data"
    }
   ],
   "source": [
    "turbines['Fissures'].hist()"
   ]
  },
  {
   "cell_type": "markdown",
   "metadata": {},
   "source": [
    "We have a discrete asymmetric variable for count data (number of fissures). That is a perfect case for a Poisson Regression Model, as Poisson distribution is the 'ace' distribution for count data. So, let's see how we can do it using statsmodels library."
   ]
  },
  {
   "cell_type": "markdown",
   "metadata": {},
   "source": [
    "## Fitting Generalized Linear Models"
   ]
  },
  {
   "cell_type": "markdown",
   "metadata": {},
   "source": [
    "First of all, we already imported some tools to be used, two of them are the statsmodels normal default API and the statsmodels formula API. We do not need both APIs to fit our model, however we did import both of them to show how we can fit a generalized linear model using the statsmodels default way and the 'formula way' of the R language."
   ]
  },
  {
   "cell_type": "code",
   "execution_count": 10,
   "metadata": {},
   "outputs": [],
   "source": [
    "from scipy.stats import chi2"
   ]
  },
  {
   "cell_type": "markdown",
   "metadata": {},
   "source": [
    "To use statsmodels GLM method, we have to make a simple alteration to the X matrix. To proceed we have to add a constant column to the matrix to represent 'intercept' of the model. It can be done as follows: "
   ]
  },
  {
   "cell_type": "code",
   "execution_count": 11,
   "metadata": {},
   "outputs": [
    {
     "name": "stderr",
     "output_type": "stream",
     "text": [
      "D:\\Python\\lib\\site-packages\\numpy\\core\\fromnumeric.py:2389: FutureWarning: Method .ptp is deprecated and will be removed in a future version. Use numpy.ptp instead.\n",
      "  return ptp(axis=axis, out=out, **kwargs)\n"
     ]
    }
   ],
   "source": [
    "data = turbines.drop('Fissures', axis = 1)\n",
    "data = sm.add_constant(data)"
   ]
  },
  {
   "cell_type": "markdown",
   "metadata": {},
   "source": [
    "Now, we are ready to fit our Poisson model. The GLM method demands our response variable (y=Fissures), our data matrix, the family of distributions (Poisson) and its link function (log for our case).\n",
    "\n",
    "* **OBS:** Our goal is to show how to fit a GLM in Python. If you are confused by theorical concepts, you should read the theory of generalized linear models in depth."
   ]
  },
  {
   "cell_type": "code",
   "execution_count": 12,
   "metadata": {},
   "outputs": [],
   "source": [
    "pois_log = sm.GLM(turbines['Fissures'], data, family = sm.families.Poisson(), link = sm.families.links.log).fit()"
   ]
  },
  {
   "cell_type": "markdown",
   "metadata": {},
   "source": [
    "Now we can call for the summary() method from our pois_log object to visualize a bunch of useful results of the fitted Poisson model:"
   ]
  },
  {
   "cell_type": "code",
   "execution_count": 13,
   "metadata": {},
   "outputs": [
    {
     "name": "stdout",
     "output_type": "stream",
     "text": [
      "                 Generalized Linear Model Regression Results                  \n",
      "==============================================================================\n",
      "Dep. Variable:               Fissures   No. Observations:                   11\n",
      "Model:                            GLM   Df Residuals:                        8\n",
      "Model Family:                 Poisson   Df Model:                            2\n",
      "Link Function:                    log   Scale:                          1.0000\n",
      "Method:                          IRLS   Log-Likelihood:                -24.317\n",
      "Date:                Thu, 07 Jan 2021   Deviance:                       8.9842\n",
      "Time:                        12:04:44   Pearson chi2:                     7.89\n",
      "No. Iterations:                     5                                         \n",
      "Covariance Type:            nonrobust                                         \n",
      "==============================================================================\n",
      "                 coef    std err          z      P>|z|      [0.025      0.975]\n",
      "------------------------------------------------------------------------------\n",
      "const         -0.5604      0.566     -0.989      0.323      -1.671       0.550\n",
      "Hours          0.0007    9.6e-05      7.111      0.000       0.000       0.001\n",
      "Turbines       0.0189      0.009      2.183      0.029       0.002       0.036\n",
      "==============================================================================\n"
     ]
    }
   ],
   "source": [
    "print(pois_log.summary())"
   ]
  },
  {
   "cell_type": "markdown",
   "metadata": {},
   "source": [
    "The parameters estimations were -0.5604, 0.0007 and 0.0189 for the intercept, Hours and Turbines respectively. We must also pay attention to Scale and Deviance, this quantities will be useful to decide if the model should be considered or not.\n",
    "\n",
    "Another import thing to look at is the P-value column for the signifficance test. Considering a signifficance level of 5%, we can see that the intercept is not signifficant to the model, so we should remove it. First let's check the applicability of the model."
   ]
  },
  {
   "cell_type": "markdown",
   "metadata": {},
   "source": [
    "We can define a new deviance measure by the quotient between the deviance and the scale of the model, if this value is less than a Chi-square on the 95th percentille with degrees of freedom equal to number of variables of the model, we can go foward with the model."
   ]
  },
  {
   "cell_type": "code",
   "execution_count": 14,
   "metadata": {},
   "outputs": [
    {
     "data": {
      "text/plain": [
       "True"
      ]
     },
     "execution_count": 14,
     "metadata": {},
     "output_type": "execute_result"
    }
   ],
   "source": [
    "deviance1 = pois_log.deviance/pois_log.scale\n",
    "q1 = chi2.ppf(0.95, pois_log.df_resid)\n",
    "deviance1 < q1"
   ]
  },
  {
   "cell_type": "markdown",
   "metadata": {},
   "source": [
    "Comparing the deviance to the Chi-square we got want we wanted, so we can proceed with our fitted model. In the case that the new deviance is greater than the Chi-square value, you should look for other solutions such as increasing the sample size, incresing the number of variables or try another convenient model."
   ]
  },
  {
   "cell_type": "markdown",
   "metadata": {},
   "source": [
    "### Variable Selection"
   ]
  },
  {
   "cell_type": "markdown",
   "metadata": {},
   "source": [
    "Either you are doing a stastistical approach or a machine learning approach to your data, variable selection is a very important step as you wish to obtain a good but simple model.\n",
    "\n",
    "In machine learning, the variable selection is part of the process known as 'features engineering' and its main goal is to simplify the complexity of the model seeking the reducing of computational cost. In statistics we are more interested in getting rid of variables with irrelevant contributions seeking simplicity of interpretation  and applicability due theoretical assumptions."
   ]
  },
  {
   "cell_type": "markdown",
   "metadata": {},
   "source": [
    "We already that the intercept is not signifficant to the model, so it will be removed and the model will be fitted again without it.\n",
    "\n",
    "Pay attention to the 'R-style' formula way to fit a GLM using statsmodel. The '-1' stands for the intercept removal."
   ]
  },
  {
   "cell_type": "code",
   "execution_count": 15,
   "metadata": {},
   "outputs": [],
   "source": [
    "pois_final = smf.glm('Fissures ~ Hours + Turbines - 1', data = turbines, family = sm.families.Poisson()).fit()"
   ]
  },
  {
   "cell_type": "code",
   "execution_count": 16,
   "metadata": {},
   "outputs": [
    {
     "name": "stdout",
     "output_type": "stream",
     "text": [
      "                 Generalized Linear Model Regression Results                  \n",
      "==============================================================================\n",
      "Dep. Variable:               Fissures   No. Observations:                   11\n",
      "Model:                            GLM   Df Residuals:                        9\n",
      "Model Family:                 Poisson   Df Model:                            1\n",
      "Link Function:                    log   Scale:                          1.0000\n",
      "Method:                          IRLS   Log-Likelihood:                -24.830\n",
      "Date:                Thu, 07 Jan 2021   Deviance:                       10.010\n",
      "Time:                        12:04:47   Pearson chi2:                     8.17\n",
      "No. Iterations:                     4                                         \n",
      "Covariance Type:            nonrobust                                         \n",
      "==============================================================================\n",
      "                 coef    std err          z      P>|z|      [0.025      0.975]\n",
      "------------------------------------------------------------------------------\n",
      "Hours          0.0006   5.46e-05     11.070      0.000       0.000       0.001\n",
      "Turbines       0.0118      0.005      2.385      0.017       0.002       0.021\n",
      "==============================================================================\n"
     ]
    }
   ],
   "source": [
    "print(pois_final.summary())"
   ]
  },
  {
   "cell_type": "markdown",
   "metadata": {},
   "source": [
    "Both variables are signifficant, so now we have our final model. We can proceed with a residual analysis."
   ]
  },
  {
   "cell_type": "markdown",
   "metadata": {},
   "source": [
    "### Residual Analysis"
   ]
  },
  {
   "cell_type": "markdown",
   "metadata": {},
   "source": [
    "Generalized Linear Models are alternative models to the cases where the residuals are not normally distributed, howerver if you have normality, everything gets brighter and you can have nice properties to work with. So let's check normality for our residues:"
   ]
  },
  {
   "cell_type": "code",
   "execution_count": 17,
   "metadata": {},
   "outputs": [],
   "source": [
    "fitted = pois_final.fittedvalues\n",
    "res_deviance = pois_final.resid_deviance"
   ]
  },
  {
   "cell_type": "markdown",
   "metadata": {},
   "source": [
    "#### Normality"
   ]
  },
  {
   "cell_type": "markdown",
   "metadata": {},
   "source": [
    "There is a lot of possibilities for checking normality of data, the most common one are the tests Shapiro-Wilks and Lilliefors, and the quantile-quantile plot (QQ-plot). For the residues of our model, we have:"
   ]
  },
  {
   "cell_type": "code",
   "execution_count": 18,
   "metadata": {},
   "outputs": [],
   "source": [
    "from scipy.stats import shapiro, probplot\n",
    "from statsmodels.stats.diagnostic import  lilliefors\n",
    "import pylab"
   ]
  },
  {
   "cell_type": "code",
   "execution_count": 19,
   "metadata": {},
   "outputs": [
    {
     "name": "stdout",
     "output_type": "stream",
     "text": [
      "The Lillierfors P-value was: 0.2\n",
      "The Shapiro P-value was: 0.9354790449142456\n"
     ]
    }
   ],
   "source": [
    "statistic, pvalue = lilliefors(res_deviance)\n",
    "statistic1, pvalue1 = shapiro(res_deviance)\n",
    "print(\"The Lillierfors P-value was: {}\".format(pvalue))\n",
    "print(\"The Shapiro P-value was: {}\".format(pvalue1))"
   ]
  },
  {
   "cell_type": "markdown",
   "metadata": {},
   "source": [
    "Both tests gave p-values greater than 0.05, it means that we can consider the risidues normally distributed and the following QQ-plot supports this affirmation."
   ]
  },
  {
   "cell_type": "code",
   "execution_count": 20,
   "metadata": {},
   "outputs": [
    {
     "data": {
      "image/png": "[encoded data removed]",
      "text/plain": [
       "<Figure size 864x432 with 1 Axes>"
      ]
     },
     "metadata": {
      "needs_background": "light"
     },
     "output_type": "display_data"
    }
   ],
   "source": [
    "probplot(res_deviance, dist = 'norm', plot = pylab)\n",
    "pylab.show()"
   ]
  },
  {
   "cell_type": "markdown",
   "metadata": {},
   "source": [
    "Although we have a very small dataset, we can see that the points are well distributed 'over' the line, which indicates normality."
   ]
  },
  {
   "cell_type": "markdown",
   "metadata": {},
   "source": [
    "Now let's investigate the possibility of homocedasticity."
   ]
  },
  {
   "cell_type": "markdown",
   "metadata": {},
   "source": [
    "#### Variance Function"
   ]
  },
  {
   "cell_type": "markdown",
   "metadata": {},
   "source": [
    "To check for homecedasticity we can simply plot the fitted values versus its residues, if the variance is \"constant\" we expect to see points randomly and symmetrically distributed around zero. For our model, we have:"
   ]
  },
  {
   "cell_type": "code",
   "execution_count": 21,
   "metadata": {},
   "outputs": [
    {
     "data": {
      "text/plain": [
       "<matplotlib.collections.LineCollection at 0x292ec782488>"
      ]
     },
     "execution_count": 21,
     "metadata": {},
     "output_type": "execute_result"
    },
    {
     "data": {
      "image/png": "[encoded data removed]",
      "text/plain": [
       "<Figure size 864x432 with 1 Axes>"
      ]
     },
     "metadata": {
      "needs_background": "light"
     },
     "output_type": "display_data"
    }
   ],
   "source": [
    "fig, ax = plt.subplots()\n",
    "\n",
    "ax.set_title('Fitted Values x Residual Deviance')\n",
    "ax.set_xlabel('Fitted Values')\n",
    "ax.set_ylabel('res_deviance')\n",
    "ax.scatter(fitted, res_deviance)\n",
    "plt.hlines(0, 0, np.max(fitted))"
   ]
  },
  {
   "cell_type": "markdown",
   "metadata": {},
   "source": [
    "As already said, we would like to have a larger dataset to make more reliable conclusions, however considering the data that we have, the results are good for homocedasticity."
   ]
  },
  {
   "cell_type": "markdown",
   "metadata": {},
   "source": [
    "Another thing that we can check to evaluate the model is the link function and it also can be done by visualization."
   ]
  },
  {
   "cell_type": "markdown",
   "metadata": {},
   "source": [
    "#### Link Function"
   ]
  },
  {
   "cell_type": "markdown",
   "metadata": {},
   "source": [
    "We can plot the fiited values by observed values, if the link function used was appropriate we expect to see the points distributed linearly, something like the identity y=x (the fitted values equal to the obeserved values). The following plot shows that log link function was not bad for this case:"
   ]
  },
  {
   "cell_type": "code",
   "execution_count": 22,
   "metadata": {},
   "outputs": [
    {
     "data": {
      "text/plain": [
       "<matplotlib.collections.PathCollection at 0x292ec79a608>"
      ]
     },
     "execution_count": 22,
     "metadata": {},
     "output_type": "execute_result"
    },
    {
     "data": {
      "image/png": "[encoded data removed]",
      "text/plain": [
       "<Figure size 864x432 with 1 Axes>"
      ]
     },
     "metadata": {
      "needs_background": "light"
     },
     "output_type": "display_data"
    }
   ],
   "source": [
    "fig, ax = plt.subplots()\n",
    "\n",
    "ax.set_title('Fitted Values x Observed Values')\n",
    "ax.set_xlabel('Fitted Values')\n",
    "ax.set_ylabel('Observed Values')\n",
    "ax.scatter(fitted, turbines['Fissures'])"
   ]
  },
  {
   "cell_type": "markdown",
   "metadata": {},
   "source": [
    "#### Independency of the Errors"
   ]
  },
  {
   "cell_type": "markdown",
   "metadata": {},
   "source": [
    "Usually we talk of non-autocorrelation of the residues, but in the case that we have normality of residues we also have independency for them. We can check if the residues are autocorrelated by doing a Durbin-Watson test or even better, an ACF plot as we can see as follows:"
   ]
  },
  {
   "cell_type": "code",
   "execution_count": 23,
   "metadata": {},
   "outputs": [],
   "source": [
    "from statsmodels.graphics.tsaplots import plot_acf"
   ]
  },
  {
   "cell_type": "code",
   "execution_count": 24,
   "metadata": {},
   "outputs": [
    {
     "data": {
      "image/png": "[encoded data removed]",
      "text/plain": [
       "<Figure size 864x432 with 1 Axes>"
      ]
     },
     "metadata": {
      "needs_background": "light"
     },
     "output_type": "display_data"
    }
   ],
   "source": [
    "acf = plot_acf(res_deviance)"
   ]
  },
  {
   "cell_type": "markdown",
   "metadata": {},
   "source": [
    "Looking at the ACF plot, we see a perfect autocorrelation for the first observation but this will always be the case as that result is the correlation between the first observation with itself. Knowing that, we have to start looking at the second observation and so on. All of them (except for the first, of course) are within the confidence boundaries for non-autocorrelation, so we can say the residues are not autocorrelated, even better, they are independent because are normally distributed."
   ]
  },
  {
   "cell_type": "markdown",
   "metadata": {},
   "source": [
    "Another important part of building a good generalized linear model is checking for outliers, influential points or leverage points."
   ]
  },
  {
   "cell_type": "markdown",
   "metadata": {},
   "source": [
    "### Diagnostic"
   ]
  },
  {
   "cell_type": "markdown",
   "metadata": {},
   "source": [
    "#### Influential Points"
   ]
  },
  {
   "cell_type": "markdown",
   "metadata": {},
   "source": [
    "To identify the influential points we can use statsmodels own tools and ask for the Cook's distance for each observation, and then analyze its impact on the model."
   ]
  },
  {
   "cell_type": "markdown",
   "metadata": {},
   "source": [
    "Above we can see the obsevations organized from the bigger to the smaller Cook's distance:"
   ]
  },
  {
   "cell_type": "code",
   "execution_count": 25,
   "metadata": {},
   "outputs": [
    {
     "data": {
      "text/html": [
       "<div>\n",
       "<style scoped>\n",
       "    .dataframe tbody tr th:only-of-type {\n",
       "        vertical-align: middle;\n",
       "    }\n",
       "\n",
       "    .dataframe tbody tr th {\n",
       "        vertical-align: top;\n",
       "    }\n",
       "\n",
       "    .dataframe thead th {\n",
       "        text-align: right;\n",
       "    }\n",
       "</style>\n",
       "<table border=\"1\" class=\"dataframe\">\n",
       "  <thead>\n",
       "    <tr style=\"text-align: right;\">\n",
       "      <th></th>\n",
       "      <th>dfb_Hours</th>\n",
       "      <th>dfb_Turbines</th>\n",
       "      <th>cooks_d</th>\n",
       "      <th>standard_resid</th>\n",
       "      <th>hat_diag</th>\n",
       "      <th>dffits_internal</th>\n",
       "    </tr>\n",
       "  </thead>\n",
       "  <tbody>\n",
       "    <tr>\n",
       "      <td>8</td>\n",
       "      <td>0.516571</td>\n",
       "      <td>-0.110091</td>\n",
       "      <td>0.375558</td>\n",
       "      <td>2.019124</td>\n",
       "      <td>0.155576</td>\n",
       "      <td>0.866670</td>\n",
       "    </tr>\n",
       "    <tr>\n",
       "      <td>10</td>\n",
       "      <td>-0.600651</td>\n",
       "      <td>0.257722</td>\n",
       "      <td>0.328369</td>\n",
       "      <td>-0.963364</td>\n",
       "      <td>0.414396</td>\n",
       "      <td>-0.810394</td>\n",
       "    </tr>\n",
       "    <tr>\n",
       "      <td>7</td>\n",
       "      <td>-0.480309</td>\n",
       "      <td>0.361961</td>\n",
       "      <td>0.122123</td>\n",
       "      <td>-1.123840</td>\n",
       "      <td>0.162046</td>\n",
       "      <td>-0.494213</td>\n",
       "    </tr>\n",
       "    <tr>\n",
       "      <td>0</td>\n",
       "      <td>0.314030</td>\n",
       "      <td>-0.372933</td>\n",
       "      <td>0.069802</td>\n",
       "      <td>-1.465472</td>\n",
       "      <td>0.061037</td>\n",
       "      <td>-0.373638</td>\n",
       "    </tr>\n",
       "    <tr>\n",
       "      <td>2</td>\n",
       "      <td>0.098245</td>\n",
       "      <td>-0.143994</td>\n",
       "      <td>0.011929</td>\n",
       "      <td>-0.790734</td>\n",
       "      <td>0.036754</td>\n",
       "      <td>-0.154459</td>\n",
       "    </tr>\n",
       "    <tr>\n",
       "      <td>1</td>\n",
       "      <td>-0.120294</td>\n",
       "      <td>0.148300</td>\n",
       "      <td>0.011167</td>\n",
       "      <td>0.343277</td>\n",
       "      <td>0.159335</td>\n",
       "      <td>0.149448</td>\n",
       "    </tr>\n",
       "    <tr>\n",
       "      <td>5</td>\n",
       "      <td>-0.038674</td>\n",
       "      <td>0.102135</td>\n",
       "      <td>0.010523</td>\n",
       "      <td>0.517171</td>\n",
       "      <td>0.072950</td>\n",
       "      <td>0.145076</td>\n",
       "    </tr>\n",
       "    <tr>\n",
       "      <td>6</td>\n",
       "      <td>0.020367</td>\n",
       "      <td>-0.076720</td>\n",
       "      <td>0.007469</td>\n",
       "      <td>-0.353722</td>\n",
       "      <td>0.106656</td>\n",
       "      <td>-0.122221</td>\n",
       "    </tr>\n",
       "    <tr>\n",
       "      <td>9</td>\n",
       "      <td>0.053749</td>\n",
       "      <td>-0.002271</td>\n",
       "      <td>0.005602</td>\n",
       "      <td>0.180582</td>\n",
       "      <td>0.255704</td>\n",
       "      <td>0.105845</td>\n",
       "    </tr>\n",
       "    <tr>\n",
       "      <td>4</td>\n",
       "      <td>0.003618</td>\n",
       "      <td>-0.017206</td>\n",
       "      <td>0.000419</td>\n",
       "      <td>-0.168202</td>\n",
       "      <td>0.028766</td>\n",
       "      <td>-0.028947</td>\n",
       "    </tr>\n",
       "    <tr>\n",
       "      <td>3</td>\n",
       "      <td>0.008350</td>\n",
       "      <td>-0.010615</td>\n",
       "      <td>0.000058</td>\n",
       "      <td>-0.009811</td>\n",
       "      <td>0.546782</td>\n",
       "      <td>-0.010777</td>\n",
       "    </tr>\n",
       "  </tbody>\n",
       "</table>\n",
       "</div>"
      ],
      "text/plain": [
       "    dfb_Hours  dfb_Turbines   cooks_d  standard_resid  hat_diag  \\\n",
       "8    0.516571     -0.110091  0.375558        2.019124  0.155576   \n",
       "10  -0.600651      0.257722  0.328369       -0.963364  0.414396   \n",
       "7   -0.480309      0.361961  0.122123       -1.123840  0.162046   \n",
       "0    0.314030     -0.372933  0.069802       -1.465472  0.061037   \n",
       "2    0.098245     -0.143994  0.011929       -0.790734  0.036754   \n",
       "1   -0.120294      0.148300  0.011167        0.343277  0.159335   \n",
       "5   -0.038674      0.102135  0.010523        0.517171  0.072950   \n",
       "6    0.020367     -0.076720  0.007469       -0.353722  0.106656   \n",
       "9    0.053749     -0.002271  0.005602        0.180582  0.255704   \n",
       "4    0.003618     -0.017206  0.000419       -0.168202  0.028766   \n",
       "3    0.008350     -0.010615  0.000058       -0.009811  0.546782   \n",
       "\n",
       "    dffits_internal  \n",
       "8          0.866670  \n",
       "10        -0.810394  \n",
       "7         -0.494213  \n",
       "0         -0.373638  \n",
       "2         -0.154459  \n",
       "1          0.149448  \n",
       "5          0.145076  \n",
       "6         -0.122221  \n",
       "9          0.105845  \n",
       "4         -0.028947  \n",
       "3         -0.010777  "
      ]
     },
     "execution_count": 25,
     "metadata": {},
     "output_type": "execute_result"
    }
   ],
   "source": [
    "infl = pois_final.get_influence(observed = False)\n",
    "summ_infl = infl.summary_frame()\n",
    "summ_infl.sort_values('cooks_d', ascending = False)"
   ]
  },
  {
   "cell_type": "code",
   "execution_count": 26,
   "metadata": {},
   "outputs": [
    {
     "data": {
      "image/png": "[encoded data removed]",
      "text/plain": [
       "<Figure size 864x432 with 1 Axes>"
      ]
     },
     "metadata": {
      "needs_background": "light"
     },
     "output_type": "display_data"
    }
   ],
   "source": [
    "fig = infl.plot_influence(criterion = 'cooks')\n",
    "fig.tight_layout(pad = 1.0)"
   ]
  },
  {
   "cell_type": "markdown",
   "metadata": {},
   "source": [
    "The influnce plot is a very good tool to identify the influential points. We can see that some points are big and others are small. The size of the point is related to the residue, that is, the observation number 3 has a small residue but high leverage while the obsevation number 10 has a large residue and is also influential."
   ]
  },
  {
   "cell_type": "markdown",
   "metadata": {},
   "source": [
    "#### Leverage Points"
   ]
  },
  {
   "cell_type": "markdown",
   "metadata": {},
   "source": [
    "The leverage points can be identified by plotting the main diagonal values of the hat matrix and verifying if some of them are above the value of (2p)/n, where 'p' is the number of variables of the model and 'n' is the sample size:"
   ]
  },
  {
   "cell_type": "code",
   "execution_count": 27,
   "metadata": {},
   "outputs": [],
   "source": [
    "n = turbines.shape[0]\n",
    "p = len(pois_final.params)"
   ]
  },
  {
   "cell_type": "code",
   "execution_count": 28,
   "metadata": {},
   "outputs": [
    {
     "data": {
      "text/plain": [
       "<matplotlib.collections.LineCollection at 0x292ec8a8fc8>"
      ]
     },
     "execution_count": 28,
     "metadata": {},
     "output_type": "execute_result"
    },
    {
     "data": {
      "image/png": "[encoded data removed]",
      "text/plain": [
       "<Figure size 864x432 with 1 Axes>"
      ]
     },
     "metadata": {
      "needs_background": "light"
     },
     "output_type": "display_data"
    }
   ],
   "source": [
    "h = pois_final.get_hat_matrix_diag(observed = False)\n",
    "plt.scatter(range(len(h)), h)\n",
    "plt.hlines(2*p/n, 0, len(h)+1)"
   ]
  },
  {
   "cell_type": "markdown",
   "metadata": {},
   "source": [
    "It is easy to see which are the leverage points for this case, but in the case where we have a large dataset, we can see the points by simply doing:"
   ]
  },
  {
   "cell_type": "code",
   "execution_count": 29,
   "metadata": {},
   "outputs": [
    {
     "name": "stdout",
     "output_type": "stream",
     "text": [
      "[ 3 10]\n"
     ]
    }
   ],
   "source": [
    "i, = np.where(h>2*p/n)\n",
    "print(i)"
   ]
  },
  {
   "cell_type": "markdown",
   "metadata": {},
   "source": [
    "A very important thing to keep in mind is the fact that training your model is something you should do to have reliable results to work with. The Holdout and Cross-validation techniques are powerful tools you can use to improve your model. For our case, we could try somenthing like 'Leave one out' (a type cross-validation technique for small datasets) but our dataset is too small even for that. The act of training and predicting on the same observation is a source of bias and you would want to minimize that as much as you can."
   ]
  }
 ],
 "metadata": {
  "kernelspec": {
   "display_name": "Python 3",
   "language": "python",
   "name": "python3"
  },
  "language_info": {
   "codemirror_mode": {
    "name": "ipython",
    "version": 3
   },
   "file_extension": ".py",
   "mimetype": "text/x-python",
   "name": "python",
   "nbconvert_exporter": "python",
   "pygments_lexer": "ipython3",
   "version": "3.7.4"
  }
 },
 "nbformat": 4,
 "nbformat_minor": 2
}
